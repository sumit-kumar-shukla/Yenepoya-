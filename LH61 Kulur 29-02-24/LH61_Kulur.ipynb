{
  "nbformat": 4,
  "nbformat_minor": 0,
  "metadata": {
    "colab": {
      "provenance": []
    },
    "kernelspec": {
      "name": "python3",
      "display_name": "Python 3"
    },
    "language_info": {
      "name": "python"
    }
  },
  "cells": [
    {
      "cell_type": "markdown",
      "source": [
        "**Python Basics**\n",
        "\n",
        "<p> Welcome to the programming fundamentals session</p>\n",
        "\n",
        "\n",
        "## Tokens\n",
        "* Keywords\n",
        "* Punctuators\n",
        "* Literals\n",
        "* Identifiers\n",
        "* Operators"
      ],
      "metadata": {
        "id": "Nb0fQdQnXWY3"
      }
    },
    {
      "cell_type": "code",
      "execution_count": 2,
      "metadata": {
        "colab": {
          "base_uri": "https://localhost:8080/"
        },
        "id": "PJ7vp9irXKuR",
        "outputId": "9c968c6a-1f78-4c47-e2aa-aacccea69c80"
      },
      "outputs": [
        {
          "output_type": "stream",
          "name": "stdout",
          "text": [
            "\n",
            "Here is a list of the Python keywords.  Enter any keyword to get more help.\n",
            "\n",
            "False               class               from                or\n",
            "None                continue            global              pass\n",
            "True                def                 if                  raise\n",
            "and                 del                 import              return\n",
            "as                  elif                in                  try\n",
            "assert              else                is                  while\n",
            "async               except              lambda              with\n",
            "await               finally             nonlocal            yield\n",
            "break               for                 not                 \n",
            "\n"
          ]
        }
      ],
      "source": [
        "# keywords - reserved words\n",
        "help('keywords')"
      ]
    },
    {
      "cell_type": "code",
      "source": [
        "# help - documentation"
      ],
      "metadata": {
        "id": "x-jOivYkYlGa"
      },
      "execution_count": 5,
      "outputs": []
    },
    {
      "cell_type": "code",
      "source": [
        "import keyword\n",
        "print(keyword.kwlist)"
      ],
      "metadata": {
        "colab": {
          "base_uri": "https://localhost:8080/"
        },
        "id": "_V4h_LA6Ytfs",
        "outputId": "8244526d-3d69-42e7-e48d-c09f0539305e"
      },
      "execution_count": 6,
      "outputs": [
        {
          "output_type": "stream",
          "name": "stdout",
          "text": [
            "['False', 'None', 'True', 'and', 'as', 'assert', 'async', 'await', 'break', 'class', 'continue', 'def', 'del', 'elif', 'else', 'except', 'finally', 'for', 'from', 'global', 'if', 'import', 'in', 'is', 'lambda', 'nonlocal', 'not', 'or', 'pass', 'raise', 'return', 'try', 'while', 'with', 'yield']\n"
          ]
        }
      ]
    },
    {
      "cell_type": "code",
      "source": [
        "print(keyword.iskeyword('for'))"
      ],
      "metadata": {
        "colab": {
          "base_uri": "https://localhost:8080/"
        },
        "id": "RglGsfoZZEkt",
        "outputId": "94c9cc07-95b8-42f5-a0d7-54f69e60f5de"
      },
      "execution_count": 9,
      "outputs": [
        {
          "output_type": "stream",
          "name": "stdout",
          "text": [
            "True\n"
          ]
        }
      ]
    },
    {
      "cell_type": "code",
      "source": [
        "# punctuators - synbols\n",
        "import string\n",
        "print(string.punctuation)"
      ],
      "metadata": {
        "colab": {
          "base_uri": "https://localhost:8080/"
        },
        "id": "HBDK8qNhZVp2",
        "outputId": "d07df456-2c76-41cf-a39e-64663c4480a7"
      },
      "execution_count": 10,
      "outputs": [
        {
          "output_type": "stream",
          "name": "stdout",
          "text": [
            "!\"#$%&'()*+,-./:;<=>?@[\\]^_`{|}~\n"
          ]
        }
      ]
    },
    {
      "cell_type": "code",
      "source": [
        "# Literals - Constants\n",
        "\n",
        "120, 2.3, 12j"
      ],
      "metadata": {
        "colab": {
          "base_uri": "https://localhost:8080/"
        },
        "id": "4CvNzizzZp4C",
        "outputId": "7efd8416-103c-4ba3-a1a3-d3b37dfd2ae1"
      },
      "execution_count": 20,
      "outputs": [
        {
          "output_type": "execute_result",
          "data": {
            "text/plain": [
              "(120, 2.3, 12j)"
            ]
          },
          "metadata": {},
          "execution_count": 20
        }
      ]
    },
    {
      "cell_type": "code",
      "source": [
        "# identifiers - variables\n",
        "a = 10\n",
        "b = 'name'\n",
        "c = [[12, 12]]"
      ],
      "metadata": {
        "id": "kvRPmHFsZ4nO"
      },
      "execution_count": 22,
      "outputs": []
    },
    {
      "cell_type": "code",
      "source": [
        "print(a, b, c)"
      ],
      "metadata": {
        "colab": {
          "base_uri": "https://localhost:8080/"
        },
        "id": "uJUkA0vxaGgR",
        "outputId": "7d874d9a-e035-49d1-8437-152fd32e2971"
      },
      "execution_count": 23,
      "outputs": [
        {
          "output_type": "stream",
          "name": "stdout",
          "text": [
            "10 name [[12, 12]]\n"
          ]
        }
      ]
    },
    {
      "cell_type": "code",
      "source": [
        "for i in [a, b, c]:\n",
        "  print('SL NO:',id(i))\n",
        "print('id of P:', id(peanuts))"
      ],
      "metadata": {
        "colab": {
          "base_uri": "https://localhost:8080/"
        },
        "id": "ryEwBsexbd7m",
        "outputId": "950fec6c-ffe9-40a9-9fa0-7aa348e52661"
      },
      "execution_count": 27,
      "outputs": [
        {
          "output_type": "stream",
          "name": "stdout",
          "text": [
            "SL NO: 139259023327760\n",
            "SL NO: 139259023674096\n",
            "SL NO: 139257742855424\n",
            "id of P: 139258108308144\n"
          ]
        }
      ]
    },
    {
      "cell_type": "code",
      "source": [
        "# operators -- several operatrions\n",
        "# arithmetic\n",
        "# assignment\n",
        "# logical\n",
        "# relational  / comparison\n",
        "# membership\n",
        "# boolean\n",
        "# identity\n",
        "# bitwise"
      ],
      "metadata": {
        "id": "vkWuEc_oblQ4"
      },
      "execution_count": 28,
      "outputs": []
    },
    {
      "cell_type": "code",
      "source": [
        "print('Hello World')"
      ],
      "metadata": {
        "colab": {
          "base_uri": "https://localhost:8080/"
        },
        "id": "FZ2MYvN7cR5t",
        "outputId": "65c32992-501e-4297-8ee0-4b8d74832cd9"
      },
      "execution_count": 29,
      "outputs": [
        {
          "output_type": "stream",
          "name": "stdout",
          "text": [
            "Hello World\n"
          ]
        }
      ]
    },
    {
      "cell_type": "markdown",
      "source": [
        "## Data Types\n",
        "\n",
        "\n",
        "* Numbers  \n",
        "  * Integers - whole numbers\n",
        "  * Float - real numbers\n",
        "  * Complex - a+bj, a = real(float) , b = imaginary(float)\n",
        "* String - characters\n",
        "* List -- mutable container\n",
        "* Tuples  -- imutable container\n",
        "* Set -- mutable container with unique elements\n",
        "* Dictionary -- mapping, key:value\n",
        "* Bool - True, False"
      ],
      "metadata": {
        "id": "XsmVoCuNixsk"
      }
    },
    {
      "cell_type": "code",
      "source": [
        "# numbers\n",
        "\n",
        "a, b = 12, -4\n",
        "d, e = 34.5, -23.4\n",
        "f, g, h= 12+5j, 3-4j, 9j"
      ],
      "metadata": {
        "id": "V3o8PugqcYEU"
      },
      "execution_count": 30,
      "outputs": []
    },
    {
      "cell_type": "code",
      "source": [
        "print(a,b)\n",
        "print(d,e)"
      ],
      "metadata": {
        "colab": {
          "base_uri": "https://localhost:8080/"
        },
        "id": "Q_k7SEjFlq8x",
        "outputId": "a0523c73-1e53-4753-ecff-9a1752cbd4f1"
      },
      "execution_count": 33,
      "outputs": [
        {
          "output_type": "stream",
          "name": "stdout",
          "text": [
            "12 -4\n",
            "34.5 -23.4\n"
          ]
        }
      ]
    },
    {
      "cell_type": "code",
      "source": [
        "f.real, f.imag"
      ],
      "metadata": {
        "colab": {
          "base_uri": "https://localhost:8080/"
        },
        "id": "016EXaz2mOae",
        "outputId": "cf13b05b-52e7-46bb-dddc-2ab3bc96d5e7"
      },
      "execution_count": 36,
      "outputs": [
        {
          "output_type": "execute_result",
          "data": {
            "text/plain": [
              "(12.0, 5.0)"
            ]
          },
          "metadata": {},
          "execution_count": 36
        }
      ]
    },
    {
      "cell_type": "code",
      "source": [
        "# Type Conversions -- implicit & Explicit\n",
        "peanuts = 10\n",
        "complex(peanuts)\n",
        "\n",
        "10 + 4.5, int(10 + 4.5)"
      ],
      "metadata": {
        "colab": {
          "base_uri": "https://localhost:8080/"
        },
        "id": "8904RpRdmT_P",
        "outputId": "6e1ee7bb-cf57-4b67-c7f6-6b9ddb0e5f6f"
      },
      "execution_count": 40,
      "outputs": [
        {
          "output_type": "execute_result",
          "data": {
            "text/plain": [
              "(14.5, 14)"
            ]
          },
          "metadata": {},
          "execution_count": 40
        }
      ]
    },
    {
      "cell_type": "markdown",
      "source": [
        "# Case Sensitive"
      ],
      "metadata": {
        "id": "wl0SVJ9tnpa9"
      }
    },
    {
      "cell_type": "code",
      "source": [
        "PEANUTS = 12.0\n",
        "\n",
        "peanuts != PEANUTS"
      ],
      "metadata": {
        "colab": {
          "base_uri": "https://localhost:8080/"
        },
        "id": "lV3uj8nVntsl",
        "outputId": "ff3445f3-ee51-4077-8da9-d7f7c94be285"
      },
      "execution_count": 41,
      "outputs": [
        {
          "output_type": "execute_result",
          "data": {
            "text/plain": [
              "True"
            ]
          },
          "metadata": {},
          "execution_count": 41
        }
      ]
    },
    {
      "cell_type": "code",
      "source": [
        "# String\n",
        "\n",
        "ba = '''Business analytics is the process of transforming data into insights to improve business decisions.\n",
        "Data management, data visualization, predictive modeling, data mining, forecasting simulation,\n",
        "and optimization are some of the tools used to create insights from data.'''"
      ],
      "metadata": {
        "id": "MAl86Qien0Xx"
      },
      "execution_count": 45,
      "outputs": []
    },
    {
      "cell_type": "code",
      "source": [
        "print(ba)"
      ],
      "metadata": {
        "colab": {
          "base_uri": "https://localhost:8080/"
        },
        "id": "JPmu5PAN7a2e",
        "outputId": "3cf2a459-9b72-48bb-8f0c-7309d292e35b"
      },
      "execution_count": 46,
      "outputs": [
        {
          "output_type": "stream",
          "name": "stdout",
          "text": [
            "Business analytics is the process of transforming data into insights to improve business decisions. \n",
            "Data management, data visualization, predictive modeling, data mining, forecasting simulation, \n",
            "and optimization are some of the tools used to create insights from data.\n"
          ]
        }
      ]
    },
    {
      "cell_type": "markdown",
      "source": [
        "## IMP Functions\n",
        "\n",
        "* uppercase\n",
        "* lowercase\n",
        "* title\n",
        "* split\n",
        "* format\n",
        "* swapcase"
      ],
      "metadata": {
        "id": "R5_ssvav8MyA"
      }
    },
    {
      "cell_type": "code",
      "source": [
        "sent = 'Business analytics is the process of transforming data into insights to improve business decisions.'"
      ],
      "metadata": {
        "id": "3SWPUQb97cKn"
      },
      "execution_count": 52,
      "outputs": []
    },
    {
      "cell_type": "code",
      "source": [
        "# lowercase\n",
        "sent.lower()"
      ],
      "metadata": {
        "colab": {
          "base_uri": "https://localhost:8080/",
          "height": 35
        },
        "id": "b5cqQpM-7yqf",
        "outputId": "311056f1-abd1-4fc9-b9e3-c00145a34937"
      },
      "execution_count": 53,
      "outputs": [
        {
          "output_type": "execute_result",
          "data": {
            "text/plain": [
              "'business analytics is the process of transforming data into insights to improve business decisions.'"
            ],
            "application/vnd.google.colaboratory.intrinsic+json": {
              "type": "string"
            }
          },
          "metadata": {},
          "execution_count": 53
        }
      ]
    },
    {
      "cell_type": "code",
      "source": [
        "sent.upper()"
      ],
      "metadata": {
        "colab": {
          "base_uri": "https://localhost:8080/",
          "height": 35
        },
        "id": "eWMstWOC8dq0",
        "outputId": "c0c1f931-6eae-4ced-ced9-388e6bf18285"
      },
      "execution_count": 55,
      "outputs": [
        {
          "output_type": "execute_result",
          "data": {
            "text/plain": [
              "'BUSINESS ANALYTICS IS THE PROCESS OF TRANSFORMING DATA INTO INSIGHTS TO IMPROVE BUSINESS DECISIONS.'"
            ],
            "application/vnd.google.colaboratory.intrinsic+json": {
              "type": "string"
            }
          },
          "metadata": {},
          "execution_count": 55
        }
      ]
    },
    {
      "cell_type": "code",
      "source": [
        "sent.title()"
      ],
      "metadata": {
        "colab": {
          "base_uri": "https://localhost:8080/",
          "height": 35
        },
        "id": "6PUCknEA8gjb",
        "outputId": "ec45986e-37a4-47c3-95d2-0fb6361fb66b"
      },
      "execution_count": 56,
      "outputs": [
        {
          "output_type": "execute_result",
          "data": {
            "text/plain": [
              "'Business Analytics Is The Process Of Transforming Data Into Insights To Improve Business Decisions.'"
            ],
            "application/vnd.google.colaboratory.intrinsic+json": {
              "type": "string"
            }
          },
          "metadata": {},
          "execution_count": 56
        }
      ]
    },
    {
      "cell_type": "code",
      "source": [
        "sent.capitalize()"
      ],
      "metadata": {
        "colab": {
          "base_uri": "https://localhost:8080/",
          "height": 35
        },
        "id": "KYMgRGA_9X8N",
        "outputId": "b4d7ff8d-5f15-4b7f-b801-d2ce24019bb7"
      },
      "execution_count": 57,
      "outputs": [
        {
          "output_type": "execute_result",
          "data": {
            "text/plain": [
              "'Business analytics is the process of transforming data into insights to improve business decisions.'"
            ],
            "application/vnd.google.colaboratory.intrinsic+json": {
              "type": "string"
            }
          },
          "metadata": {},
          "execution_count": 57
        }
      ]
    },
    {
      "cell_type": "code",
      "source": [
        "# swapcase\n",
        "'PXUfj3rvjrIWE'.swapcase()"
      ],
      "metadata": {
        "colab": {
          "base_uri": "https://localhost:8080/",
          "height": 35
        },
        "id": "LJJa8sVH9c13",
        "outputId": "a9f16148-ddfe-4eac-a221-340a946b0995"
      },
      "execution_count": 60,
      "outputs": [
        {
          "output_type": "execute_result",
          "data": {
            "text/plain": [
              "'pxuFJ3RVJRiwe'"
            ],
            "application/vnd.google.colaboratory.intrinsic+json": {
              "type": "string"
            }
          },
          "metadata": {},
          "execution_count": 60
        }
      ]
    },
    {
      "cell_type": "code",
      "source": [
        "# you will get an email id , seperate the username and the domain of the user.\n",
        "em = 'username@domain.com'"
      ],
      "metadata": {
        "id": "oZH7uBPp9mCX"
      },
      "execution_count": 72,
      "outputs": []
    },
    {
      "cell_type": "code",
      "source": [
        "em.split('@')"
      ],
      "metadata": {
        "colab": {
          "base_uri": "https://localhost:8080/"
        },
        "id": "xYliokYj-N-6",
        "outputId": "3e851960-dcc4-47a2-fa11-b1dcaf500bb3"
      },
      "execution_count": 74,
      "outputs": [
        {
          "output_type": "execute_result",
          "data": {
            "text/plain": [
              "['username', 'domain.com']"
            ]
          },
          "metadata": {},
          "execution_count": 74
        }
      ]
    },
    {
      "cell_type": "code",
      "source": [
        "'A B C D E'.split()"
      ],
      "metadata": {
        "colab": {
          "base_uri": "https://localhost:8080/"
        },
        "id": "mvpflwMa-X9u",
        "outputId": "da5f1541-1979-4ca3-9c5f-4ba2272e6f36"
      },
      "execution_count": 68,
      "outputs": [
        {
          "output_type": "execute_result",
          "data": {
            "text/plain": [
              "['A', 'B', 'C', 'D', 'E']"
            ]
          },
          "metadata": {},
          "execution_count": 68
        }
      ]
    },
    {
      "cell_type": "code",
      "source": [
        "abs = \"This Session is of LH{} of {} campus.\"\n",
        "abs.format(61, 'kulur')"
      ],
      "metadata": {
        "colab": {
          "base_uri": "https://localhost:8080/",
          "height": 35
        },
        "id": "a8MJ1Mb0-in8",
        "outputId": "f5c6d807-d297-4d4a-f7d2-c5209887c7cc"
      },
      "execution_count": 80,
      "outputs": [
        {
          "output_type": "execute_result",
          "data": {
            "text/plain": [
              "'This Session is of LH61 of kulur campus.'"
            ],
            "application/vnd.google.colaboratory.intrinsic+json": {
              "type": "string"
            }
          },
          "metadata": {},
          "execution_count": 80
        }
      ]
    },
    {
      "cell_type": "code",
      "source": [
        "def session(lh, campus):\n",
        "  abs = \"This Session is of LH{} of {} campus.\"\n",
        "  print(abs.format(lh, campus))"
      ],
      "metadata": {
        "id": "w5gM8RkX-_7W"
      },
      "execution_count": 76,
      "outputs": []
    },
    {
      "cell_type": "code",
      "source": [
        "session(61, 'Kulur')\n",
        "session(41, 'balmatta')"
      ],
      "metadata": {
        "colab": {
          "base_uri": "https://localhost:8080/"
        },
        "id": "HWR56DkZ_QNZ",
        "outputId": "86f441d8-8ff4-44c1-c500-3522fad8cf03"
      },
      "execution_count": 79,
      "outputs": [
        {
          "output_type": "stream",
          "name": "stdout",
          "text": [
            "This Session is of LH61 of Kulur campus.\n",
            "This Session is of LH41 of balmatta campus.\n"
          ]
        }
      ]
    },
    {
      "cell_type": "markdown",
      "source": [
        "## LIST\n",
        "\n",
        "* append\n",
        "* extend\n",
        "\n",
        "* count\n",
        "* remove"
      ],
      "metadata": {
        "id": "_ttY1WZ_FRgf"
      }
    },
    {
      "cell_type": "code",
      "source": [
        "comp = ['IBM','GGL','TCS','MSFT','INF']"
      ],
      "metadata": {
        "id": "C7EMYUwI_X3V"
      },
      "execution_count": 81,
      "outputs": []
    },
    {
      "cell_type": "code",
      "source": [
        "## add\n",
        "comp.append('SMNG')\n",
        "comp"
      ],
      "metadata": {
        "colab": {
          "base_uri": "https://localhost:8080/"
        },
        "id": "ru8mVcuKGMMz",
        "outputId": "3e11b869-eb63-4d16-e775-45dd9ca61693"
      },
      "execution_count": 82,
      "outputs": [
        {
          "output_type": "execute_result",
          "data": {
            "text/plain": [
              "['IBM', 'GGL', 'TCS', 'MSFT', 'INF', 'SMNG']"
            ]
          },
          "metadata": {},
          "execution_count": 82
        }
      ]
    },
    {
      "cell_type": "code",
      "source": [
        "comp.append('META')\n",
        "comp"
      ],
      "metadata": {
        "colab": {
          "base_uri": "https://localhost:8080/"
        },
        "id": "BDehWHjkGRwV",
        "outputId": "9730caae-5719-4b38-e29a-c8bd437b19b0"
      },
      "execution_count": 83,
      "outputs": [
        {
          "output_type": "execute_result",
          "data": {
            "text/plain": [
              "['IBM', 'GGL', 'TCS', 'MSFT', 'INF', 'SMNG', 'META']"
            ]
          },
          "metadata": {},
          "execution_count": 83
        }
      ]
    },
    {
      "cell_type": "code",
      "source": [
        "comp.remove('TCS')"
      ],
      "metadata": {
        "id": "7EAq0hrSGcl4"
      },
      "execution_count": 84,
      "outputs": []
    },
    {
      "cell_type": "code",
      "source": [
        "comp"
      ],
      "metadata": {
        "colab": {
          "base_uri": "https://localhost:8080/"
        },
        "id": "ShG6M1jlGh7R",
        "outputId": "daa027ff-cc91-4a84-a503-a5772ae7e169"
      },
      "execution_count": 85,
      "outputs": [
        {
          "output_type": "execute_result",
          "data": {
            "text/plain": [
              "['IBM', 'GGL', 'MSFT', 'INF', 'SMNG', 'META']"
            ]
          },
          "metadata": {},
          "execution_count": 85
        }
      ]
    },
    {
      "cell_type": "code",
      "source": [
        "comp.extend(['TSLA','EY'])\n",
        "comp"
      ],
      "metadata": {
        "colab": {
          "base_uri": "https://localhost:8080/"
        },
        "id": "RxPB8mcsGipq",
        "outputId": "173bf3c2-df45-4a5b-de0e-0be4e75f9b47"
      },
      "execution_count": 86,
      "outputs": [
        {
          "output_type": "execute_result",
          "data": {
            "text/plain": [
              "['IBM', 'GGL', 'MSFT', 'INF', 'SMNG', 'META', 'TSLA', 'EY']"
            ]
          },
          "metadata": {},
          "execution_count": 86
        }
      ]
    },
    {
      "cell_type": "code",
      "source": [
        "print(dir(list))"
      ],
      "metadata": {
        "colab": {
          "base_uri": "https://localhost:8080/"
        },
        "id": "nQftJKd8Gu7o",
        "outputId": "8db76ac8-a7fc-4863-f966-392527fc3fe7"
      },
      "execution_count": 87,
      "outputs": [
        {
          "output_type": "stream",
          "name": "stdout",
          "text": [
            "['__add__', '__class__', '__class_getitem__', '__contains__', '__delattr__', '__delitem__', '__dir__', '__doc__', '__eq__', '__format__', '__ge__', '__getattribute__', '__getitem__', '__gt__', '__hash__', '__iadd__', '__imul__', '__init__', '__init_subclass__', '__iter__', '__le__', '__len__', '__lt__', '__mul__', '__ne__', '__new__', '__reduce__', '__reduce_ex__', '__repr__', '__reversed__', '__rmul__', '__setattr__', '__setitem__', '__sizeof__', '__str__', '__subclasshook__', 'append', 'clear', 'copy', 'count', 'extend', 'index', 'insert', 'pop', 'remove', 'reverse', 'sort']\n"
          ]
        }
      ]
    },
    {
      "cell_type": "code",
      "source": [
        "cc = comp.copy()\n",
        "cc.clear()\n",
        "cc"
      ],
      "metadata": {
        "colab": {
          "base_uri": "https://localhost:8080/"
        },
        "id": "e6lbFNShG0aq",
        "outputId": "cc922217-b42a-48c9-e6fc-cff0d85c82d5"
      },
      "execution_count": 89,
      "outputs": [
        {
          "output_type": "execute_result",
          "data": {
            "text/plain": [
              "[]"
            ]
          },
          "metadata": {},
          "execution_count": 89
        }
      ]
    },
    {
      "cell_type": "code",
      "source": [
        "comp.pop()"
      ],
      "metadata": {
        "colab": {
          "base_uri": "https://localhost:8080/",
          "height": 35
        },
        "id": "6FqBqLADHAdF",
        "outputId": "0b7160d7-bac1-4827-c24b-8368d1e20715"
      },
      "execution_count": 90,
      "outputs": [
        {
          "output_type": "execute_result",
          "data": {
            "text/plain": [
              "'EY'"
            ],
            "application/vnd.google.colaboratory.intrinsic+json": {
              "type": "string"
            }
          },
          "metadata": {},
          "execution_count": 90
        }
      ]
    },
    {
      "cell_type": "code",
      "source": [
        "# tuple\n",
        "comp_t = tuple(comp)\n",
        "comp_t"
      ],
      "metadata": {
        "colab": {
          "base_uri": "https://localhost:8080/"
        },
        "id": "j7vyD-qTHK_x",
        "outputId": "45fa2a48-3cd5-4b45-ed1b-b3df29b3c628"
      },
      "execution_count": 91,
      "outputs": [
        {
          "output_type": "execute_result",
          "data": {
            "text/plain": [
              "('IBM', 'GGL', 'MSFT', 'INF', 'SMNG', 'META', 'TSLA')"
            ]
          },
          "metadata": {},
          "execution_count": 91
        }
      ]
    },
    {
      "cell_type": "markdown",
      "source": [
        "# INDEXING\n",
        "\n",
        "\n",
        "\n",
        "\n",
        "---\n",
        "* start\n",
        "* stop\n",
        "* step"
      ],
      "metadata": {
        "id": "VK_JfGoqIzfe"
      }
    },
    {
      "cell_type": "code",
      "source": [
        "comp"
      ],
      "metadata": {
        "colab": {
          "base_uri": "https://localhost:8080/"
        },
        "id": "8iwEO_FLIvim",
        "outputId": "fb261cfd-2502-4d30-9f40-6f705ba4fe9a"
      },
      "execution_count": 92,
      "outputs": [
        {
          "output_type": "execute_result",
          "data": {
            "text/plain": [
              "['IBM', 'GGL', 'MSFT', 'INF', 'SMNG', 'META', 'TSLA']"
            ]
          },
          "metadata": {},
          "execution_count": 92
        }
      ]
    },
    {
      "cell_type": "code",
      "source": [
        "comp[3]"
      ],
      "metadata": {
        "colab": {
          "base_uri": "https://localhost:8080/",
          "height": 35
        },
        "id": "9jnb5rsyJCfl",
        "outputId": "287f4d34-dc92-41a2-a963-cb49dccc5f09"
      },
      "execution_count": 93,
      "outputs": [
        {
          "output_type": "execute_result",
          "data": {
            "text/plain": [
              "'INF'"
            ],
            "application/vnd.google.colaboratory.intrinsic+json": {
              "type": "string"
            }
          },
          "metadata": {},
          "execution_count": 93
        }
      ]
    },
    {
      "cell_type": "code",
      "source": [
        "comp[-1]"
      ],
      "metadata": {
        "colab": {
          "base_uri": "https://localhost:8080/",
          "height": 35
        },
        "id": "xkI6c50cJTq4",
        "outputId": "74afc9ba-22f7-4de4-a9ca-7d454a281ae5"
      },
      "execution_count": 94,
      "outputs": [
        {
          "output_type": "execute_result",
          "data": {
            "text/plain": [
              "'TSLA'"
            ],
            "application/vnd.google.colaboratory.intrinsic+json": {
              "type": "string"
            }
          },
          "metadata": {},
          "execution_count": 94
        }
      ]
    },
    {
      "cell_type": "code",
      "source": [
        "comp[-7]"
      ],
      "metadata": {
        "colab": {
          "base_uri": "https://localhost:8080/",
          "height": 35
        },
        "id": "5ODIgimwJWII",
        "outputId": "3851148e-0933-4099-d1c2-d48e17ae665d"
      },
      "execution_count": 96,
      "outputs": [
        {
          "output_type": "execute_result",
          "data": {
            "text/plain": [
              "'IBM'"
            ],
            "application/vnd.google.colaboratory.intrinsic+json": {
              "type": "string"
            }
          },
          "metadata": {},
          "execution_count": 96
        }
      ]
    },
    {
      "cell_type": "code",
      "source": [
        "# slicing  - raning between indexes\n",
        "comp[0::2]"
      ],
      "metadata": {
        "colab": {
          "base_uri": "https://localhost:8080/"
        },
        "id": "l5wU8Im0JbgP",
        "outputId": "30083c4f-ea6d-4ab5-e277-afbfd5a586a7"
      },
      "execution_count": 98,
      "outputs": [
        {
          "output_type": "execute_result",
          "data": {
            "text/plain": [
              "['IBM', 'MSFT', 'SMNG', 'TSLA']"
            ]
          },
          "metadata": {},
          "execution_count": 98
        }
      ]
    },
    {
      "cell_type": "code",
      "source": [
        "comp.insert(1, 'TATA')\n",
        "comp"
      ],
      "metadata": {
        "colab": {
          "base_uri": "https://localhost:8080/"
        },
        "id": "IwhY8zj4JqEF",
        "outputId": "a758dde9-de13-4107-9a52-8470f69d3c45"
      },
      "execution_count": 100,
      "outputs": [
        {
          "output_type": "execute_result",
          "data": {
            "text/plain": [
              "['IBM', 'TATA', 'GGL', 'MSFT', 'INF', 'SMNG', 'META', 'TSLA']"
            ]
          },
          "metadata": {},
          "execution_count": 100
        }
      ]
    },
    {
      "cell_type": "code",
      "source": [
        "import random\n",
        "random.randrange(123456, 987654)      # range(start, stop-1, step)"
      ],
      "metadata": {
        "colab": {
          "base_uri": "https://localhost:8080/"
        },
        "id": "x0Eot4NmJ5cg",
        "outputId": "64287e9c-61b6-46aa-98b7-010f84cea365"
      },
      "execution_count": 119,
      "outputs": [
        {
          "output_type": "execute_result",
          "data": {
            "text/plain": [
              "354017"
            ]
          },
          "metadata": {},
          "execution_count": 119
        }
      ]
    },
    {
      "cell_type": "code",
      "source": [
        "def otp(x):\n",
        "  import random\n",
        "  import datetime\n",
        "  import pandas as pd\n",
        "  import time\n",
        "\n",
        "  start = time.time()\n",
        "  otplist = []\n",
        "  timelist = []\n",
        "\n",
        "  for i in range(x):\n",
        "    dt = datetime.datetime.now()\n",
        "    timelist.append(dt)\n",
        "\n",
        "    cc = 'G-' + str(random.randrange(111111, 999999))\n",
        "    otplist.append(cc)\n",
        "\n",
        "  stop = time.time()\n",
        "\n",
        "  print('Time Took : ', stop-start, 'ms')\n",
        "\n",
        "  return pd.DataFrame({'DateTime': timelist, 'OTP':otplist})\n",
        "\n",
        "\n",
        "  stop = time.time()\n",
        "\n",
        "  print(len(otplist), len(timelist))\n",
        "  print('Time Took : ', stop-start, 'ms')"
      ],
      "metadata": {
        "id": "u8x3pfGbKOvH"
      },
      "execution_count": 145,
      "outputs": []
    },
    {
      "cell_type": "code",
      "source": [
        "otp(1000000)"
      ],
      "metadata": {
        "colab": {
          "base_uri": "https://localhost:8080/",
          "height": 441
        },
        "id": "otBPNkYfKqN-",
        "outputId": "f54de157-e6f1-43cb-b4f3-79083ac2f6b2"
      },
      "execution_count": 146,
      "outputs": [
        {
          "output_type": "stream",
          "name": "stdout",
          "text": [
            "Time Took :  1.729675531387329 ms\n"
          ]
        },
        {
          "output_type": "execute_result",
          "data": {
            "text/plain": [
              "                         DateTime       OTP\n",
              "0      2024-02-29 09:35:59.432960  G-992519\n",
              "1      2024-02-29 09:35:59.432988  G-998364\n",
              "2      2024-02-29 09:35:59.432993  G-220416\n",
              "3      2024-02-29 09:35:59.432996  G-168424\n",
              "4      2024-02-29 09:35:59.432999  G-960971\n",
              "...                           ...       ...\n",
              "999995 2024-02-29 09:36:01.162618  G-522182\n",
              "999996 2024-02-29 09:36:01.162619  G-309039\n",
              "999997 2024-02-29 09:36:01.162621  G-331694\n",
              "999998 2024-02-29 09:36:01.162622  G-250955\n",
              "999999 2024-02-29 09:36:01.162624  G-915972\n",
              "\n",
              "[1000000 rows x 2 columns]"
            ],
            "text/html": [
              "\n",
              "  <div id=\"df-9f6978e9-7e6c-4567-ab1b-d7af9d55b701\" class=\"colab-df-container\">\n",
              "    <div>\n",
              "<style scoped>\n",
              "    .dataframe tbody tr th:only-of-type {\n",
              "        vertical-align: middle;\n",
              "    }\n",
              "\n",
              "    .dataframe tbody tr th {\n",
              "        vertical-align: top;\n",
              "    }\n",
              "\n",
              "    .dataframe thead th {\n",
              "        text-align: right;\n",
              "    }\n",
              "</style>\n",
              "<table border=\"1\" class=\"dataframe\">\n",
              "  <thead>\n",
              "    <tr style=\"text-align: right;\">\n",
              "      <th></th>\n",
              "      <th>DateTime</th>\n",
              "      <th>OTP</th>\n",
              "    </tr>\n",
              "  </thead>\n",
              "  <tbody>\n",
              "    <tr>\n",
              "      <th>0</th>\n",
              "      <td>2024-02-29 09:35:59.432960</td>\n",
              "      <td>G-992519</td>\n",
              "    </tr>\n",
              "    <tr>\n",
              "      <th>1</th>\n",
              "      <td>2024-02-29 09:35:59.432988</td>\n",
              "      <td>G-998364</td>\n",
              "    </tr>\n",
              "    <tr>\n",
              "      <th>2</th>\n",
              "      <td>2024-02-29 09:35:59.432993</td>\n",
              "      <td>G-220416</td>\n",
              "    </tr>\n",
              "    <tr>\n",
              "      <th>3</th>\n",
              "      <td>2024-02-29 09:35:59.432996</td>\n",
              "      <td>G-168424</td>\n",
              "    </tr>\n",
              "    <tr>\n",
              "      <th>4</th>\n",
              "      <td>2024-02-29 09:35:59.432999</td>\n",
              "      <td>G-960971</td>\n",
              "    </tr>\n",
              "    <tr>\n",
              "      <th>...</th>\n",
              "      <td>...</td>\n",
              "      <td>...</td>\n",
              "    </tr>\n",
              "    <tr>\n",
              "      <th>999995</th>\n",
              "      <td>2024-02-29 09:36:01.162618</td>\n",
              "      <td>G-522182</td>\n",
              "    </tr>\n",
              "    <tr>\n",
              "      <th>999996</th>\n",
              "      <td>2024-02-29 09:36:01.162619</td>\n",
              "      <td>G-309039</td>\n",
              "    </tr>\n",
              "    <tr>\n",
              "      <th>999997</th>\n",
              "      <td>2024-02-29 09:36:01.162621</td>\n",
              "      <td>G-331694</td>\n",
              "    </tr>\n",
              "    <tr>\n",
              "      <th>999998</th>\n",
              "      <td>2024-02-29 09:36:01.162622</td>\n",
              "      <td>G-250955</td>\n",
              "    </tr>\n",
              "    <tr>\n",
              "      <th>999999</th>\n",
              "      <td>2024-02-29 09:36:01.162624</td>\n",
              "      <td>G-915972</td>\n",
              "    </tr>\n",
              "  </tbody>\n",
              "</table>\n",
              "<p>1000000 rows × 2 columns</p>\n",
              "</div>\n",
              "    <div class=\"colab-df-buttons\">\n",
              "\n",
              "  <div class=\"colab-df-container\">\n",
              "    <button class=\"colab-df-convert\" onclick=\"convertToInteractive('df-9f6978e9-7e6c-4567-ab1b-d7af9d55b701')\"\n",
              "            title=\"Convert this dataframe to an interactive table.\"\n",
              "            style=\"display:none;\">\n",
              "\n",
              "  <svg xmlns=\"http://www.w3.org/2000/svg\" height=\"24px\" viewBox=\"0 -960 960 960\">\n",
              "    <path d=\"M120-120v-720h720v720H120Zm60-500h600v-160H180v160Zm220 220h160v-160H400v160Zm0 220h160v-160H400v160ZM180-400h160v-160H180v160Zm440 0h160v-160H620v160ZM180-180h160v-160H180v160Zm440 0h160v-160H620v160Z\"/>\n",
              "  </svg>\n",
              "    </button>\n",
              "\n",
              "  <style>\n",
              "    .colab-df-container {\n",
              "      display:flex;\n",
              "      gap: 12px;\n",
              "    }\n",
              "\n",
              "    .colab-df-convert {\n",
              "      background-color: #E8F0FE;\n",
              "      border: none;\n",
              "      border-radius: 50%;\n",
              "      cursor: pointer;\n",
              "      display: none;\n",
              "      fill: #1967D2;\n",
              "      height: 32px;\n",
              "      padding: 0 0 0 0;\n",
              "      width: 32px;\n",
              "    }\n",
              "\n",
              "    .colab-df-convert:hover {\n",
              "      background-color: #E2EBFA;\n",
              "      box-shadow: 0px 1px 2px rgba(60, 64, 67, 0.3), 0px 1px 3px 1px rgba(60, 64, 67, 0.15);\n",
              "      fill: #174EA6;\n",
              "    }\n",
              "\n",
              "    .colab-df-buttons div {\n",
              "      margin-bottom: 4px;\n",
              "    }\n",
              "\n",
              "    [theme=dark] .colab-df-convert {\n",
              "      background-color: #3B4455;\n",
              "      fill: #D2E3FC;\n",
              "    }\n",
              "\n",
              "    [theme=dark] .colab-df-convert:hover {\n",
              "      background-color: #434B5C;\n",
              "      box-shadow: 0px 1px 3px 1px rgba(0, 0, 0, 0.15);\n",
              "      filter: drop-shadow(0px 1px 2px rgba(0, 0, 0, 0.3));\n",
              "      fill: #FFFFFF;\n",
              "    }\n",
              "  </style>\n",
              "\n",
              "    <script>\n",
              "      const buttonEl =\n",
              "        document.querySelector('#df-9f6978e9-7e6c-4567-ab1b-d7af9d55b701 button.colab-df-convert');\n",
              "      buttonEl.style.display =\n",
              "        google.colab.kernel.accessAllowed ? 'block' : 'none';\n",
              "\n",
              "      async function convertToInteractive(key) {\n",
              "        const element = document.querySelector('#df-9f6978e9-7e6c-4567-ab1b-d7af9d55b701');\n",
              "        const dataTable =\n",
              "          await google.colab.kernel.invokeFunction('convertToInteractive',\n",
              "                                                    [key], {});\n",
              "        if (!dataTable) return;\n",
              "\n",
              "        const docLinkHtml = 'Like what you see? Visit the ' +\n",
              "          '<a target=\"_blank\" href=https://colab.research.google.com/notebooks/data_table.ipynb>data table notebook</a>'\n",
              "          + ' to learn more about interactive tables.';\n",
              "        element.innerHTML = '';\n",
              "        dataTable['output_type'] = 'display_data';\n",
              "        await google.colab.output.renderOutput(dataTable, element);\n",
              "        const docLink = document.createElement('div');\n",
              "        docLink.innerHTML = docLinkHtml;\n",
              "        element.appendChild(docLink);\n",
              "      }\n",
              "    </script>\n",
              "  </div>\n",
              "\n",
              "\n",
              "<div id=\"df-e40a1b08-1ad3-49bc-9032-b740cb20b6c4\">\n",
              "  <button class=\"colab-df-quickchart\" onclick=\"quickchart('df-e40a1b08-1ad3-49bc-9032-b740cb20b6c4')\"\n",
              "            title=\"Suggest charts\"\n",
              "            style=\"display:none;\">\n",
              "\n",
              "<svg xmlns=\"http://www.w3.org/2000/svg\" height=\"24px\"viewBox=\"0 0 24 24\"\n",
              "     width=\"24px\">\n",
              "    <g>\n",
              "        <path d=\"M19 3H5c-1.1 0-2 .9-2 2v14c0 1.1.9 2 2 2h14c1.1 0 2-.9 2-2V5c0-1.1-.9-2-2-2zM9 17H7v-7h2v7zm4 0h-2V7h2v10zm4 0h-2v-4h2v4z\"/>\n",
              "    </g>\n",
              "</svg>\n",
              "  </button>\n",
              "\n",
              "<style>\n",
              "  .colab-df-quickchart {\n",
              "      --bg-color: #E8F0FE;\n",
              "      --fill-color: #1967D2;\n",
              "      --hover-bg-color: #E2EBFA;\n",
              "      --hover-fill-color: #174EA6;\n",
              "      --disabled-fill-color: #AAA;\n",
              "      --disabled-bg-color: #DDD;\n",
              "  }\n",
              "\n",
              "  [theme=dark] .colab-df-quickchart {\n",
              "      --bg-color: #3B4455;\n",
              "      --fill-color: #D2E3FC;\n",
              "      --hover-bg-color: #434B5C;\n",
              "      --hover-fill-color: #FFFFFF;\n",
              "      --disabled-bg-color: #3B4455;\n",
              "      --disabled-fill-color: #666;\n",
              "  }\n",
              "\n",
              "  .colab-df-quickchart {\n",
              "    background-color: var(--bg-color);\n",
              "    border: none;\n",
              "    border-radius: 50%;\n",
              "    cursor: pointer;\n",
              "    display: none;\n",
              "    fill: var(--fill-color);\n",
              "    height: 32px;\n",
              "    padding: 0;\n",
              "    width: 32px;\n",
              "  }\n",
              "\n",
              "  .colab-df-quickchart:hover {\n",
              "    background-color: var(--hover-bg-color);\n",
              "    box-shadow: 0 1px 2px rgba(60, 64, 67, 0.3), 0 1px 3px 1px rgba(60, 64, 67, 0.15);\n",
              "    fill: var(--button-hover-fill-color);\n",
              "  }\n",
              "\n",
              "  .colab-df-quickchart-complete:disabled,\n",
              "  .colab-df-quickchart-complete:disabled:hover {\n",
              "    background-color: var(--disabled-bg-color);\n",
              "    fill: var(--disabled-fill-color);\n",
              "    box-shadow: none;\n",
              "  }\n",
              "\n",
              "  .colab-df-spinner {\n",
              "    border: 2px solid var(--fill-color);\n",
              "    border-color: transparent;\n",
              "    border-bottom-color: var(--fill-color);\n",
              "    animation:\n",
              "      spin 1s steps(1) infinite;\n",
              "  }\n",
              "\n",
              "  @keyframes spin {\n",
              "    0% {\n",
              "      border-color: transparent;\n",
              "      border-bottom-color: var(--fill-color);\n",
              "      border-left-color: var(--fill-color);\n",
              "    }\n",
              "    20% {\n",
              "      border-color: transparent;\n",
              "      border-left-color: var(--fill-color);\n",
              "      border-top-color: var(--fill-color);\n",
              "    }\n",
              "    30% {\n",
              "      border-color: transparent;\n",
              "      border-left-color: var(--fill-color);\n",
              "      border-top-color: var(--fill-color);\n",
              "      border-right-color: var(--fill-color);\n",
              "    }\n",
              "    40% {\n",
              "      border-color: transparent;\n",
              "      border-right-color: var(--fill-color);\n",
              "      border-top-color: var(--fill-color);\n",
              "    }\n",
              "    60% {\n",
              "      border-color: transparent;\n",
              "      border-right-color: var(--fill-color);\n",
              "    }\n",
              "    80% {\n",
              "      border-color: transparent;\n",
              "      border-right-color: var(--fill-color);\n",
              "      border-bottom-color: var(--fill-color);\n",
              "    }\n",
              "    90% {\n",
              "      border-color: transparent;\n",
              "      border-bottom-color: var(--fill-color);\n",
              "    }\n",
              "  }\n",
              "</style>\n",
              "\n",
              "  <script>\n",
              "    async function quickchart(key) {\n",
              "      const quickchartButtonEl =\n",
              "        document.querySelector('#' + key + ' button');\n",
              "      quickchartButtonEl.disabled = true;  // To prevent multiple clicks.\n",
              "      quickchartButtonEl.classList.add('colab-df-spinner');\n",
              "      try {\n",
              "        const charts = await google.colab.kernel.invokeFunction(\n",
              "            'suggestCharts', [key], {});\n",
              "      } catch (error) {\n",
              "        console.error('Error during call to suggestCharts:', error);\n",
              "      }\n",
              "      quickchartButtonEl.classList.remove('colab-df-spinner');\n",
              "      quickchartButtonEl.classList.add('colab-df-quickchart-complete');\n",
              "    }\n",
              "    (() => {\n",
              "      let quickchartButtonEl =\n",
              "        document.querySelector('#df-e40a1b08-1ad3-49bc-9032-b740cb20b6c4 button');\n",
              "      quickchartButtonEl.style.display =\n",
              "        google.colab.kernel.accessAllowed ? 'block' : 'none';\n",
              "    })();\n",
              "  </script>\n",
              "</div>\n",
              "\n",
              "    </div>\n",
              "  </div>\n"
            ],
            "application/vnd.google.colaboratory.intrinsic+json": {
              "type": "dataframe"
            }
          },
          "metadata": {},
          "execution_count": 146
        }
      ]
    },
    {
      "cell_type": "markdown",
      "source": [
        "# Opearators"
      ],
      "metadata": {
        "id": "yTbEDhFpOaIv"
      }
    },
    {
      "cell_type": "code",
      "source": [
        "# airth\n",
        "\n",
        "a = 10\n",
        "b = 5\n",
        "\n",
        "\n",
        "a + b, a - b , a/b, a* b , a//b, a**b, a%b, 100%3"
      ],
      "metadata": {
        "colab": {
          "base_uri": "https://localhost:8080/"
        },
        "id": "bg03VCc3LvE3",
        "outputId": "03556129-496a-46c1-8c3d-56fb2c3938d4"
      },
      "execution_count": 149,
      "outputs": [
        {
          "output_type": "execute_result",
          "data": {
            "text/plain": [
              "(15, 5, 2.0, 50, 2, 100000, 0, 1)"
            ]
          },
          "metadata": {},
          "execution_count": 149
        }
      ]
    },
    {
      "cell_type": "code",
      "source": [
        "# relational\n",
        "\n",
        "a > b, a< b , a == b, a!= b , a>=b , a<=b"
      ],
      "metadata": {
        "colab": {
          "base_uri": "https://localhost:8080/"
        },
        "id": "Yj8pEab2On-V",
        "outputId": "6190426d-21d5-4150-912b-ab911b3189cb"
      },
      "execution_count": 152,
      "outputs": [
        {
          "output_type": "execute_result",
          "data": {
            "text/plain": [
              "(True, False, False, True, True, False)"
            ]
          },
          "metadata": {},
          "execution_count": 152
        }
      ]
    },
    {
      "cell_type": "code",
      "source": [
        "# LOGICAL\n",
        "\n",
        "and - ALL\n",
        "or - ANY\n",
        "not - SWAP\n"
      ],
      "metadata": {
        "id": "AZjh6FO0QY5a"
      },
      "execution_count": null,
      "outputs": []
    },
    {
      "cell_type": "markdown",
      "source": [
        "CONDITIONS\n",
        "\n",
        "mid_marks = 90<br>\n",
        "end_marks = 87"
      ],
      "metadata": {
        "id": "YAeYo26rVgmB"
      }
    },
    {
      "cell_type": "code",
      "source": [
        "mid_marks = int(input('Enter Mid Term Marks: '))\n",
        "end_marks = int(input('Enter End Term Marks '))\n",
        "mid_marks > 60 and end_marks>80, mid_marks > 60 or end_marks>80"
      ],
      "metadata": {
        "colab": {
          "base_uri": "https://localhost:8080/"
        },
        "id": "K7boU71gVrLF",
        "outputId": "a3bff3ee-9b3f-4124-d7b9-a7a61d9bfbc3"
      },
      "execution_count": 157,
      "outputs": [
        {
          "name": "stdout",
          "output_type": "stream",
          "text": [
            "Enter Mid Term Marks: 45\n",
            "Enter End Term Marks 90\n"
          ]
        },
        {
          "output_type": "execute_result",
          "data": {
            "text/plain": [
              "(False, True)"
            ]
          },
          "metadata": {},
          "execution_count": 157
        }
      ]
    },
    {
      "cell_type": "code",
      "source": [
        "1 & 0 -- 0\n",
        "1 & 1 -- 1\n",
        "0 & 1 -- 0\n",
        "0 & 0 -- 0\n",
        "\n",
        "\n",
        "1 | 1 -- 1\n",
        "0 | 1 -- 1\n",
        "0 | 0 -- 0\n",
        "1 | 0 -- 1\n",
        "\n",
        "\n",
        "not 1 -- 0\n",
        "not 0 -- 1"
      ],
      "metadata": {
        "id": "zl1DYolOV5hY"
      },
      "execution_count": null,
      "outputs": []
    },
    {
      "cell_type": "code",
      "source": [
        "not a>b"
      ],
      "metadata": {
        "colab": {
          "base_uri": "https://localhost:8080/"
        },
        "id": "db-X_aYdXCOy",
        "outputId": "de2b336e-4369-4a45-ff41-8165f1ba8e0f"
      },
      "execution_count": 159,
      "outputs": [
        {
          "output_type": "execute_result",
          "data": {
            "text/plain": [
              "False"
            ]
          },
          "metadata": {},
          "execution_count": 159
        }
      ]
    },
    {
      "cell_type": "code",
      "source": [
        "# memebrship\n",
        "\n",
        "cp= ['A','B','C','D']\n",
        "\n",
        "'Z' not in cp"
      ],
      "metadata": {
        "colab": {
          "base_uri": "https://localhost:8080/"
        },
        "id": "2iQ8X4ebXCzG",
        "outputId": "e2db1947-2f2a-4387-e395-48f135cdf6c5"
      },
      "execution_count": 2,
      "outputs": [
        {
          "output_type": "execute_result",
          "data": {
            "text/plain": [
              "True"
            ]
          },
          "metadata": {},
          "execution_count": 2
        }
      ]
    },
    {
      "cell_type": "markdown",
      "source": [],
      "metadata": {
        "id": "p5aMNhx-SfXS"
      }
    },
    {
      "cell_type": "code",
      "source": [
        "'B' in cp"
      ],
      "metadata": {
        "colab": {
          "base_uri": "https://localhost:8080/"
        },
        "id": "69uhQZEgR8Kp",
        "outputId": "3f1e2094-e7dc-4b25-d2d2-245e76727dab"
      },
      "execution_count": 3,
      "outputs": [
        {
          "output_type": "execute_result",
          "data": {
            "text/plain": [
              "True"
            ]
          },
          "metadata": {},
          "execution_count": 3
        }
      ]
    },
    {
      "cell_type": "code",
      "source": [
        "# tuple\n",
        "\n",
        "tu = tuple(cp)\n",
        "tu"
      ],
      "metadata": {
        "colab": {
          "base_uri": "https://localhost:8080/"
        },
        "id": "A5X1xvkASKzW",
        "outputId": "7e40e6a2-4feb-4ded-de24-2ff312d807c2"
      },
      "execution_count": 4,
      "outputs": [
        {
          "output_type": "execute_result",
          "data": {
            "text/plain": [
              "('A', 'B', 'C', 'D')"
            ]
          },
          "metadata": {},
          "execution_count": 4
        }
      ]
    },
    {
      "cell_type": "code",
      "source": [
        "tu.index('B')"
      ],
      "metadata": {
        "colab": {
          "base_uri": "https://localhost:8080/"
        },
        "id": "CH1cafq6ScB5",
        "outputId": "80c120f0-dcae-4bdd-a272-66310cf451d8"
      },
      "execution_count": 5,
      "outputs": [
        {
          "output_type": "execute_result",
          "data": {
            "text/plain": [
              "1"
            ]
          },
          "metadata": {},
          "execution_count": 5
        }
      ]
    },
    {
      "cell_type": "markdown",
      "source": [
        "# Sets\n",
        "\n",
        "* add\n",
        "* update\n",
        "* remove\n",
        "* discard\n",
        "* pop\n",
        "* union\n",
        "* intersection\n",
        "* disjoint\n",
        "* symmetric_difference"
      ],
      "metadata": {
        "id": "tmezll2WTyaz"
      }
    },
    {
      "cell_type": "code",
      "source": [
        "#SEts -- {}\n",
        "\n",
        "a = {'l','a','m',2}\n",
        "a"
      ],
      "metadata": {
        "colab": {
          "base_uri": "https://localhost:8080/"
        },
        "id": "OwdOfsCJSkI8",
        "outputId": "4a5df2e6-7bef-4420-dbac-9d832e3a0f53"
      },
      "execution_count": 6,
      "outputs": [
        {
          "output_type": "execute_result",
          "data": {
            "text/plain": [
              "{2, 'a', 'l', 'm'}"
            ]
          },
          "metadata": {},
          "execution_count": 6
        }
      ]
    },
    {
      "cell_type": "code",
      "source": [
        "a.add('M')\n",
        "a"
      ],
      "metadata": {
        "colab": {
          "base_uri": "https://localhost:8080/"
        },
        "id": "nUx70yfzTSSj",
        "outputId": "1c18ba9d-3556-4ca8-a4c7-8d74a398b015"
      },
      "execution_count": 7,
      "outputs": [
        {
          "output_type": "execute_result",
          "data": {
            "text/plain": [
              "{2, 'M', 'a', 'l', 'm'}"
            ]
          },
          "metadata": {},
          "execution_count": 7
        }
      ]
    },
    {
      "cell_type": "code",
      "source": [
        "a.update({'M','N','A'})\n",
        "a"
      ],
      "metadata": {
        "colab": {
          "base_uri": "https://localhost:8080/"
        },
        "id": "AjCWm2ldTieJ",
        "outputId": "55bb2537-7e56-463f-ae3f-e99908d99c4c"
      },
      "execution_count": 8,
      "outputs": [
        {
          "output_type": "execute_result",
          "data": {
            "text/plain": [
              "{2, 'A', 'M', 'N', 'a', 'l', 'm'}"
            ]
          },
          "metadata": {},
          "execution_count": 8
        }
      ]
    },
    {
      "cell_type": "code",
      "source": [
        "a.remove(2)"
      ],
      "metadata": {
        "id": "nTrYfJ2wTqaw"
      },
      "execution_count": 9,
      "outputs": []
    },
    {
      "cell_type": "code",
      "source": [
        "a"
      ],
      "metadata": {
        "colab": {
          "base_uri": "https://localhost:8080/"
        },
        "id": "RGjFsN62VgYn",
        "outputId": "8d550973-899f-472e-dc9d-c473b5158176"
      },
      "execution_count": 10,
      "outputs": [
        {
          "output_type": "execute_result",
          "data": {
            "text/plain": [
              "{'A', 'M', 'N', 'a', 'l', 'm'}"
            ]
          },
          "metadata": {},
          "execution_count": 10
        }
      ]
    },
    {
      "cell_type": "code",
      "source": [
        "a.discard(2)"
      ],
      "metadata": {
        "id": "cT_cQX-UVg-b"
      },
      "execution_count": 11,
      "outputs": []
    },
    {
      "cell_type": "code",
      "source": [
        "a.discard('a')"
      ],
      "metadata": {
        "id": "Cq8nTrRGVo1f"
      },
      "execution_count": 12,
      "outputs": []
    },
    {
      "cell_type": "code",
      "source": [
        "a"
      ],
      "metadata": {
        "colab": {
          "base_uri": "https://localhost:8080/"
        },
        "id": "3y2GIgJXVu7v",
        "outputId": "01a7f360-afd7-418f-c34c-cd2d2aacbe27"
      },
      "execution_count": 13,
      "outputs": [
        {
          "output_type": "execute_result",
          "data": {
            "text/plain": [
              "{'A', 'M', 'N', 'l', 'm'}"
            ]
          },
          "metadata": {},
          "execution_count": 13
        }
      ]
    },
    {
      "cell_type": "code",
      "source": [
        "a.pop()"
      ],
      "metadata": {
        "colab": {
          "base_uri": "https://localhost:8080/",
          "height": 35
        },
        "id": "AC0fKY_NVwuC",
        "outputId": "11245446-250d-4373-fa12-9e6a3146d991"
      },
      "execution_count": 14,
      "outputs": [
        {
          "output_type": "execute_result",
          "data": {
            "text/plain": [
              "'A'"
            ],
            "application/vnd.google.colaboratory.intrinsic+json": {
              "type": "string"
            }
          },
          "metadata": {},
          "execution_count": 14
        }
      ]
    },
    {
      "cell_type": "code",
      "source": [
        "a = {1, 2, 3, 4}\n",
        "b = {4, 5, 6 ,7}\n",
        "\n",
        "# common elements\n",
        "a.intersection(b), a &b"
      ],
      "metadata": {
        "colab": {
          "base_uri": "https://localhost:8080/"
        },
        "id": "rF1hK8O1V0Od",
        "outputId": "ada51701-5d95-43b6-9328-d8980256e418"
      },
      "execution_count": 16,
      "outputs": [
        {
          "output_type": "execute_result",
          "data": {
            "text/plain": [
              "({4}, {4})"
            ]
          },
          "metadata": {},
          "execution_count": 16
        }
      ]
    },
    {
      "cell_type": "code",
      "source": [
        "# uncommon elements\n",
        "\n",
        "a.symmetric_difference(b)"
      ],
      "metadata": {
        "colab": {
          "base_uri": "https://localhost:8080/"
        },
        "id": "6S510dLnWazP",
        "outputId": "a5d2296b-c2da-4d28-c824-953fc71a71a1"
      },
      "execution_count": 17,
      "outputs": [
        {
          "output_type": "execute_result",
          "data": {
            "text/plain": [
              "{1, 2, 3, 5, 6, 7}"
            ]
          },
          "metadata": {},
          "execution_count": 17
        }
      ]
    },
    {
      "cell_type": "code",
      "source": [
        "# union\n",
        "a.union(b)"
      ],
      "metadata": {
        "colab": {
          "base_uri": "https://localhost:8080/"
        },
        "id": "oMQ8G0I6WmhH",
        "outputId": "74659e02-8b04-4c6f-f253-5621f6241e34"
      },
      "execution_count": 18,
      "outputs": [
        {
          "output_type": "execute_result",
          "data": {
            "text/plain": [
              "{1, 2, 3, 4, 5, 6, 7}"
            ]
          },
          "metadata": {},
          "execution_count": 18
        }
      ]
    },
    {
      "cell_type": "code",
      "source": [
        "a -b"
      ],
      "metadata": {
        "colab": {
          "base_uri": "https://localhost:8080/"
        },
        "id": "GXeFlI9bWuhE",
        "outputId": "f0b44a73-84e2-4700-f232-91d07c3b6e56"
      },
      "execution_count": 19,
      "outputs": [
        {
          "output_type": "execute_result",
          "data": {
            "text/plain": [
              "{1, 2, 3}"
            ]
          },
          "metadata": {},
          "execution_count": 19
        }
      ]
    },
    {
      "cell_type": "code",
      "source": [
        "b-a"
      ],
      "metadata": {
        "colab": {
          "base_uri": "https://localhost:8080/"
        },
        "id": "7_pG0ndGWxpX",
        "outputId": "386a6a9c-9006-421c-8b49-f0f5047148de"
      },
      "execution_count": 20,
      "outputs": [
        {
          "output_type": "execute_result",
          "data": {
            "text/plain": [
              "{5, 6, 7}"
            ]
          },
          "metadata": {},
          "execution_count": 20
        }
      ]
    },
    {
      "cell_type": "code",
      "source": [
        "a.isdisjoint(b)"
      ],
      "metadata": {
        "colab": {
          "base_uri": "https://localhost:8080/"
        },
        "id": "fBJwqhBpW2NW",
        "outputId": "999d85d8-ec0e-4025-a045-b106feedf91b"
      },
      "execution_count": 22,
      "outputs": [
        {
          "output_type": "execute_result",
          "data": {
            "text/plain": [
              "False"
            ]
          },
          "metadata": {},
          "execution_count": 22
        }
      ]
    },
    {
      "cell_type": "markdown",
      "source": [
        "## Dictionary -- {key:value} , dict"
      ],
      "metadata": {
        "id": "wUXAZh2KXE6x"
      }
    },
    {
      "cell_type": "code",
      "source": [
        "inr = {'cricket':4, 'football':8, 'Cricket & Football':3}\n",
        "inr"
      ],
      "metadata": {
        "colab": {
          "base_uri": "https://localhost:8080/"
        },
        "id": "Kg0MrtZ-W73_",
        "outputId": "68a49c3e-ee51-4bd2-d052-866b48dc0cea"
      },
      "execution_count": 24,
      "outputs": [
        {
          "output_type": "execute_result",
          "data": {
            "text/plain": [
              "{'cricket': 4, 'football': 8, 'Cricket & Football': 3}"
            ]
          },
          "metadata": {},
          "execution_count": 24
        }
      ]
    },
    {
      "cell_type": "code",
      "source": [
        "inr.keys()"
      ],
      "metadata": {
        "colab": {
          "base_uri": "https://localhost:8080/"
        },
        "id": "p3Mv2ey-Xlkw",
        "outputId": "3872b6fa-33a1-419c-dd78-fb0742b87ddf"
      },
      "execution_count": 25,
      "outputs": [
        {
          "output_type": "execute_result",
          "data": {
            "text/plain": [
              "dict_keys(['cricket', 'football', 'Cricket & Football'])"
            ]
          },
          "metadata": {},
          "execution_count": 25
        }
      ]
    },
    {
      "cell_type": "code",
      "source": [
        "inr.values()"
      ],
      "metadata": {
        "colab": {
          "base_uri": "https://localhost:8080/"
        },
        "id": "zpFsXdmLXoda",
        "outputId": "625b026d-b637-4546-b8da-dd3522e4cfa9"
      },
      "execution_count": 27,
      "outputs": [
        {
          "output_type": "execute_result",
          "data": {
            "text/plain": [
              "dict_values([4, 8, 3])"
            ]
          },
          "metadata": {},
          "execution_count": 27
        }
      ]
    },
    {
      "cell_type": "code",
      "source": [
        "inr['Badminton'] = 1\n",
        "inr"
      ],
      "metadata": {
        "colab": {
          "base_uri": "https://localhost:8080/"
        },
        "id": "F9CHfHWsXqzp",
        "outputId": "b9b4e1a9-6ac3-4a4f-b145-bd3fc4b1b9f7"
      },
      "execution_count": 28,
      "outputs": [
        {
          "output_type": "execute_result",
          "data": {
            "text/plain": [
              "{'cricket': 4, 'football': 8, 'Cricket & Football': 3, 'Badminton': 1}"
            ]
          },
          "metadata": {},
          "execution_count": 28
        }
      ]
    },
    {
      "cell_type": "code",
      "source": [
        "inr['Cook']=1\n",
        "inr"
      ],
      "metadata": {
        "colab": {
          "base_uri": "https://localhost:8080/"
        },
        "id": "DA2mFJXdXw-v",
        "outputId": "f764c71f-8c9a-421a-a6fd-7a743dac528a"
      },
      "execution_count": 29,
      "outputs": [
        {
          "output_type": "execute_result",
          "data": {
            "text/plain": [
              "{'cricket': 4,\n",
              " 'football': 8,\n",
              " 'Cricket & Football': 3,\n",
              " 'Badminton': 1,\n",
              " 'Cook': 1}"
            ]
          },
          "metadata": {},
          "execution_count": 29
        }
      ]
    },
    {
      "cell_type": "code",
      "source": [
        "crick = {'Mis','Nih','Sid','Shm','Meh'}\n",
        "foot = {'Mum','Adm','Aym','Sid','Shm','Ysm'}\n",
        "box = {'Ysm'}\n",
        "\n",
        "\n",
        "\n",
        "crick&foot"
      ],
      "metadata": {
        "colab": {
          "base_uri": "https://localhost:8080/"
        },
        "id": "4VMLg_D4X63m",
        "outputId": "2eef5bf8-b8dd-4f4d-d459-ba7db2e2fbc4"
      },
      "execution_count": 33,
      "outputs": [
        {
          "output_type": "execute_result",
          "data": {
            "text/plain": [
              "{'Shm', 'Sid'}"
            ]
          },
          "metadata": {},
          "execution_count": 33
        }
      ]
    },
    {
      "cell_type": "markdown",
      "source": [
        "## Loops\n",
        "\n",
        "* for\n",
        "* while"
      ],
      "metadata": {
        "id": "B8fxMSZhY_Qy"
      }
    },
    {
      "cell_type": "code",
      "source": [
        "# while - indefintite loops\n",
        "\n",
        "\n",
        "i = 0 # 1, 2\n",
        "while  i <= 6:\n",
        "  print('Current i =', i)\n",
        "  i+= 1\n",
        "print('Current i =', i,'so loop ended')"
      ],
      "metadata": {
        "colab": {
          "base_uri": "https://localhost:8080/"
        },
        "id": "eh3E4-eSY-ss",
        "outputId": "b5c45fee-b3c5-496a-fc69-65710402cc82"
      },
      "execution_count": 39,
      "outputs": [
        {
          "output_type": "stream",
          "name": "stdout",
          "text": [
            "Current i = 0\n",
            "Current i = 1\n",
            "Current i = 2\n",
            "Current i = 3\n",
            "Current i = 4\n",
            "Current i = 5\n",
            "Current i = 6\n",
            "Current i = 7 so loop ended\n"
          ]
        }
      ]
    },
    {
      "cell_type": "code",
      "source": [
        "# for loop\n",
        "\n",
        "for i in foot|crick|box:\n",
        "  print('Item No:',i)"
      ],
      "metadata": {
        "colab": {
          "base_uri": "https://localhost:8080/"
        },
        "id": "ow6ptPkxYv1O",
        "outputId": "af3dea49-6f52-462a-940e-84177c000b42"
      },
      "execution_count": 48,
      "outputs": [
        {
          "output_type": "stream",
          "name": "stdout",
          "text": [
            "Item No: Ysm\n",
            "Item No: Meh\n",
            "Item No: Mum\n",
            "Item No: Adm\n",
            "Item No: Nih\n",
            "Item No: Sid\n",
            "Item No: Aym\n",
            "Item No: Shm\n",
            "Item No: Mis\n"
          ]
        }
      ]
    },
    {
      "cell_type": "code",
      "source": [
        "# IF ELSE\n",
        "marks = int(input('Enter Marks: '))\n",
        "if marks>=50:\n",
        "  print('PASS')\n",
        "else:\n",
        "  print('FAIL')"
      ],
      "metadata": {
        "colab": {
          "base_uri": "https://localhost:8080/"
        },
        "id": "MycWJl9KcZCf",
        "outputId": "92b9a019-d1fd-4597-ba65-28af0542d992"
      },
      "execution_count": 60,
      "outputs": [
        {
          "output_type": "stream",
          "name": "stdout",
          "text": [
            "Enter Marks: 50\n",
            "PASS\n"
          ]
        }
      ]
    },
    {
      "cell_type": "code",
      "source": [
        "50>int('100')"
      ],
      "metadata": {
        "colab": {
          "base_uri": "https://localhost:8080/"
        },
        "id": "sflcOJcwY-QV",
        "outputId": "431ee105-2fd9-4a78-bfab-68698ddb8db3"
      },
      "execution_count": 58,
      "outputs": [
        {
          "output_type": "execute_result",
          "data": {
            "text/plain": [
              "False"
            ]
          },
          "metadata": {},
          "execution_count": 58
        }
      ]
    },
    {
      "cell_type": "code",
      "source": [
        "del peanuts"
      ],
      "metadata": {
        "id": "kLQJfktaaQRz"
      },
      "execution_count": 57,
      "outputs": []
    },
    {
      "cell_type": "code",
      "source": [
        "def atten(stu_name, stu_time, thresh_time):\n",
        "  att = 0\n",
        "  if stu_time > thresh_time:\n",
        "    print('late')\n",
        "    att = 'Attendance Marked as Absent'\n",
        "  elif stu_time == thresh_time:\n",
        "    print('Ontime')\n",
        "    att = \"Attendance Marked as Present\"\n",
        "  elif stu_time < thresh_time:\n",
        "    print('Early')\n",
        "    att = 'Atendance Marked as Present'\n",
        "\n",
        "  print('----Status of {} : {}-----'.format(stu_name, att))"
      ],
      "metadata": {
        "id": "9dkPc42ZaUg6"
      },
      "execution_count": 68,
      "outputs": []
    },
    {
      "cell_type": "code",
      "source": [
        "# FUNCTIONS\n",
        "\n",
        "def evenOdd(num):\n",
        "  if num%2 ==0:\n",
        "    print('Even ')\n",
        "  else:\n",
        "    print('Odd')"
      ],
      "metadata": {
        "id": "Y4ntfKv4dZN0"
      },
      "execution_count": 65,
      "outputs": []
    },
    {
      "cell_type": "code",
      "source": [
        "evenOdd(67456789)"
      ],
      "metadata": {
        "colab": {
          "base_uri": "https://localhost:8080/"
        },
        "id": "LljQ_7JeihRE",
        "outputId": "16b2b772-874a-4ece-82c6-f93d96c19dd2"
      },
      "execution_count": 67,
      "outputs": [
        {
          "output_type": "stream",
          "name": "stdout",
          "text": [
            "Odd\n"
          ]
        }
      ]
    },
    {
      "cell_type": "code",
      "source": [
        "help(atten)"
      ],
      "metadata": {
        "colab": {
          "base_uri": "https://localhost:8080/"
        },
        "id": "MMwRP8y-il6K",
        "outputId": "ed9a8063-3cca-499b-c002-bd5c6cfa2956"
      },
      "execution_count": 69,
      "outputs": [
        {
          "output_type": "stream",
          "name": "stdout",
          "text": [
            "Help on function atten in module __main__:\n",
            "\n",
            "atten(stu_name, stu_time, thresh_time)\n",
            "\n"
          ]
        }
      ]
    },
    {
      "cell_type": "code",
      "source": [
        "atten('Akmal',1100, 953)"
      ],
      "metadata": {
        "colab": {
          "base_uri": "https://localhost:8080/"
        },
        "id": "xm-z8oRIjnxy",
        "outputId": "26279cc5-292d-4741-9c47-10ee5fc0ff9c"
      },
      "execution_count": 72,
      "outputs": [
        {
          "output_type": "stream",
          "name": "stdout",
          "text": [
            "late\n",
            "----Status of Akmal : Attendance Marked as Absent-----\n"
          ]
        }
      ]
    },
    {
      "cell_type": "code",
      "source": [
        "sq = lambda x: x**2\n",
        "sq(5), sq(4.3886868684884884848484)"
      ],
      "metadata": {
        "colab": {
          "base_uri": "https://localhost:8080/"
        },
        "id": "3Uym4Z5nj1ab",
        "outputId": "0a9668d9-f585-436f-a2e5-448a17e47c9c"
      },
      "execution_count": 76,
      "outputs": [
        {
          "output_type": "execute_result",
          "data": {
            "text/plain": [
              "(25, 19.260572429643293)"
            ]
          },
          "metadata": {},
          "execution_count": 76
        }
      ]
    },
    {
      "cell_type": "code",
      "source": [
        "# LIB - BA\n",
        "pandas -- data manipulation\n",
        "numpy - numerical calculations\n",
        "matplotlib -- plotting (basic)\n",
        "seaborn -- customizations(adv. plotting)\n",
        "plotly -- 3d plotting\n",
        "sklearn - machine learning"
      ],
      "metadata": {
        "id": "NT3wx-RDkWsj"
      },
      "execution_count": null,
      "outputs": []
    },
    {
      "cell_type": "code",
      "source": [
        "import pandas as pd\n",
        "data = pd.read_csv('/content/indian_food.csv')"
      ],
      "metadata": {
        "id": "BuOgxPxnR4Yk"
      },
      "execution_count": 77,
      "outputs": []
    },
    {
      "cell_type": "code",
      "source": [
        "# how many state data we have\n",
        "\n",
        "data['state'].value_counts()"
      ],
      "metadata": {
        "colab": {
          "base_uri": "https://localhost:8080/"
        },
        "id": "rIS45qcZSJLH",
        "outputId": "56dccec2-4f74-48ee-e7fa-91ef63f7906e"
      },
      "execution_count": 79,
      "outputs": [
        {
          "output_type": "execute_result",
          "data": {
            "text/plain": [
              "Gujarat            35\n",
              "Punjab             32\n",
              "Maharashtra        30\n",
              "West Bengal        24\n",
              "-1                 24\n",
              "Assam              21\n",
              "Tamil Nadu         20\n",
              "Andhra Pradesh     10\n",
              "Uttar Pradesh       9\n",
              "Kerala              8\n",
              "Odisha              7\n",
              "Karnataka           6\n",
              "Rajasthan           6\n",
              "Telangana           5\n",
              "Bihar               3\n",
              "Goa                 3\n",
              "Manipur             2\n",
              "Jammu & Kashmir     2\n",
              "Madhya Pradesh      2\n",
              "Uttarakhand         1\n",
              "Tripura             1\n",
              "Nagaland            1\n",
              "NCT of Delhi        1\n",
              "Chhattisgarh        1\n",
              "Haryana             1\n",
              "Name: state, dtype: int64"
            ]
          },
          "metadata": {},
          "execution_count": 79
        }
      ]
    },
    {
      "cell_type": "code",
      "source": [
        "# kerela dishes\n",
        "def explore_state(state_name):\n",
        "  logic  = (data['state'] == state_name)\n",
        "  return data[logic]"
      ],
      "metadata": {
        "id": "mEmSvdFeSJI4"
      },
      "execution_count": 87,
      "outputs": []
    },
    {
      "cell_type": "code",
      "source": [
        "explore_state('West Bengal')"
      ],
      "metadata": {
        "colab": {
          "base_uri": "https://localhost:8080/",
          "height": 1000
        },
        "id": "3a3SCsZbSJGl",
        "outputId": "1405cf84-c4d7-4e06-b63f-3e311bbab990"
      },
      "execution_count": 88,
      "outputs": [
        {
          "output_type": "execute_result",
          "data": {
            "text/plain": [
              "                    name                                        ingredients  \\\n",
              "0             Balu shahi                    Maida flour, yogurt, oil, sugar   \n",
              "4            Gulab jamun  Milk powder, plain flour, baking powder, ghee,...   \n",
              "5                 Imarti                          Sugar syrup, lentil flour   \n",
              "8               Kalakand                        Milk, cottage cheese, sugar   \n",
              "23             Cham cham  Flour, cream, sugar, saffron, lemon juice, coc...   \n",
              "25              Ledikeni                                Chhena, sugar, ghee   \n",
              "28              Mihidana                           Besan flour, sugar, ghee   \n",
              "29             Misti doi                                      Milk, jaggery   \n",
              "30                Pantua                         Chhena, sugar, ghee, flour   \n",
              "33             Ras malai                    Chhena, reduced milk, pistachio   \n",
              "34              Rasgulla                            Chhena, sugar, cardamom   \n",
              "35               Sandesh                     Milk, sugar, saffron, cardamom   \n",
              "36             Adhirasam   Rice flour, jaggery, ghee, vegetable oil, elachi   \n",
              "79        Chicken razala  Chicken, dahi, sesame seeds, garam masala powd...   \n",
              "84             Daal puri  Moong dal, garam masala powder, garlic, green ...   \n",
              "220           Cheera Doi                                  Rice, mango, curd   \n",
              "224                Luchi                               Maida, vegetable oil   \n",
              "232  Chingri malai curry  Coconut milk, lobster, fresh green chilli, gin...   \n",
              "233                 Goja  Baking soda, clarified butter, oil, all purpos...   \n",
              "236        Chingri Bhape   Coconut, prawns, curd, mustard seed, green chili   \n",
              "237             Kabiraji            Fish fillet, besan, lemon, mint, ginger   \n",
              "243   Mishti Chholar Dal  Chana dal, fresh coconut, ginger, cinnamon, ra...   \n",
              "247    Prawn malai curry      Coconut milk, prawns, garlic, turmeric, sugar   \n",
              "249               Shukto  Green beans, bitter gourd, ridge gourd, banana...   \n",
              "\n",
              "               diet  prep_time  cook_time flavor_profile       course  \\\n",
              "0        vegetarian         45         25          sweet      dessert   \n",
              "4        vegetarian         15         40          sweet      dessert   \n",
              "5        vegetarian         10         50          sweet      dessert   \n",
              "8        vegetarian         20         30          sweet      dessert   \n",
              "23       vegetarian         40         60          sweet      dessert   \n",
              "25       vegetarian         45         45          sweet      dessert   \n",
              "28       vegetarian         15         30          sweet      dessert   \n",
              "29       vegetarian        480         30          sweet      dessert   \n",
              "30       vegetarian         45         45          sweet      dessert   \n",
              "33       vegetarian        180         60          sweet      dessert   \n",
              "34       vegetarian         10         90          sweet      dessert   \n",
              "35       vegetarian         30         20          sweet      dessert   \n",
              "36       vegetarian         10         50          sweet      dessert   \n",
              "79   non vegetarian         10         35          spicy  main course   \n",
              "84       vegetarian         30         30          spicy  main course   \n",
              "220      vegetarian         -1         -1          sweet      dessert   \n",
              "224      vegetarian         20         30             -1  main course   \n",
              "232  non vegetarian         10         40          spicy  main course   \n",
              "233      vegetarian         20         60          sweet      dessert   \n",
              "236  non vegetarian         15         30             -1  main course   \n",
              "237  non vegetarian         -1         -1          spicy  main course   \n",
              "243      vegetarian         10         30          sweet  main course   \n",
              "247  non vegetarian         15         50          spicy  main course   \n",
              "249      vegetarian         10         20          spicy  main course   \n",
              "\n",
              "           state region  \n",
              "0    West Bengal   East  \n",
              "4    West Bengal   East  \n",
              "5    West Bengal   East  \n",
              "8    West Bengal   East  \n",
              "23   West Bengal   East  \n",
              "25   West Bengal   East  \n",
              "28   West Bengal   East  \n",
              "29   West Bengal   East  \n",
              "30   West Bengal   East  \n",
              "33   West Bengal   East  \n",
              "34   West Bengal   East  \n",
              "35   West Bengal   East  \n",
              "36   West Bengal   East  \n",
              "79   West Bengal   East  \n",
              "84   West Bengal   East  \n",
              "220  West Bengal   East  \n",
              "224  West Bengal   East  \n",
              "232  West Bengal   East  \n",
              "233  West Bengal   East  \n",
              "236  West Bengal   East  \n",
              "237  West Bengal   East  \n",
              "243  West Bengal   East  \n",
              "247  West Bengal   East  \n",
              "249  West Bengal   East  "
            ],
            "text/html": [
              "\n",
              "  <div id=\"df-8e1ef570-92b8-4cde-bd4e-3e626ed01d4f\" class=\"colab-df-container\">\n",
              "    <div>\n",
              "<style scoped>\n",
              "    .dataframe tbody tr th:only-of-type {\n",
              "        vertical-align: middle;\n",
              "    }\n",
              "\n",
              "    .dataframe tbody tr th {\n",
              "        vertical-align: top;\n",
              "    }\n",
              "\n",
              "    .dataframe thead th {\n",
              "        text-align: right;\n",
              "    }\n",
              "</style>\n",
              "<table border=\"1\" class=\"dataframe\">\n",
              "  <thead>\n",
              "    <tr style=\"text-align: right;\">\n",
              "      <th></th>\n",
              "      <th>name</th>\n",
              "      <th>ingredients</th>\n",
              "      <th>diet</th>\n",
              "      <th>prep_time</th>\n",
              "      <th>cook_time</th>\n",
              "      <th>flavor_profile</th>\n",
              "      <th>course</th>\n",
              "      <th>state</th>\n",
              "      <th>region</th>\n",
              "    </tr>\n",
              "  </thead>\n",
              "  <tbody>\n",
              "    <tr>\n",
              "      <th>0</th>\n",
              "      <td>Balu shahi</td>\n",
              "      <td>Maida flour, yogurt, oil, sugar</td>\n",
              "      <td>vegetarian</td>\n",
              "      <td>45</td>\n",
              "      <td>25</td>\n",
              "      <td>sweet</td>\n",
              "      <td>dessert</td>\n",
              "      <td>West Bengal</td>\n",
              "      <td>East</td>\n",
              "    </tr>\n",
              "    <tr>\n",
              "      <th>4</th>\n",
              "      <td>Gulab jamun</td>\n",
              "      <td>Milk powder, plain flour, baking powder, ghee,...</td>\n",
              "      <td>vegetarian</td>\n",
              "      <td>15</td>\n",
              "      <td>40</td>\n",
              "      <td>sweet</td>\n",
              "      <td>dessert</td>\n",
              "      <td>West Bengal</td>\n",
              "      <td>East</td>\n",
              "    </tr>\n",
              "    <tr>\n",
              "      <th>5</th>\n",
              "      <td>Imarti</td>\n",
              "      <td>Sugar syrup, lentil flour</td>\n",
              "      <td>vegetarian</td>\n",
              "      <td>10</td>\n",
              "      <td>50</td>\n",
              "      <td>sweet</td>\n",
              "      <td>dessert</td>\n",
              "      <td>West Bengal</td>\n",
              "      <td>East</td>\n",
              "    </tr>\n",
              "    <tr>\n",
              "      <th>8</th>\n",
              "      <td>Kalakand</td>\n",
              "      <td>Milk, cottage cheese, sugar</td>\n",
              "      <td>vegetarian</td>\n",
              "      <td>20</td>\n",
              "      <td>30</td>\n",
              "      <td>sweet</td>\n",
              "      <td>dessert</td>\n",
              "      <td>West Bengal</td>\n",
              "      <td>East</td>\n",
              "    </tr>\n",
              "    <tr>\n",
              "      <th>23</th>\n",
              "      <td>Cham cham</td>\n",
              "      <td>Flour, cream, sugar, saffron, lemon juice, coc...</td>\n",
              "      <td>vegetarian</td>\n",
              "      <td>40</td>\n",
              "      <td>60</td>\n",
              "      <td>sweet</td>\n",
              "      <td>dessert</td>\n",
              "      <td>West Bengal</td>\n",
              "      <td>East</td>\n",
              "    </tr>\n",
              "    <tr>\n",
              "      <th>25</th>\n",
              "      <td>Ledikeni</td>\n",
              "      <td>Chhena, sugar, ghee</td>\n",
              "      <td>vegetarian</td>\n",
              "      <td>45</td>\n",
              "      <td>45</td>\n",
              "      <td>sweet</td>\n",
              "      <td>dessert</td>\n",
              "      <td>West Bengal</td>\n",
              "      <td>East</td>\n",
              "    </tr>\n",
              "    <tr>\n",
              "      <th>28</th>\n",
              "      <td>Mihidana</td>\n",
              "      <td>Besan flour, sugar, ghee</td>\n",
              "      <td>vegetarian</td>\n",
              "      <td>15</td>\n",
              "      <td>30</td>\n",
              "      <td>sweet</td>\n",
              "      <td>dessert</td>\n",
              "      <td>West Bengal</td>\n",
              "      <td>East</td>\n",
              "    </tr>\n",
              "    <tr>\n",
              "      <th>29</th>\n",
              "      <td>Misti doi</td>\n",
              "      <td>Milk, jaggery</td>\n",
              "      <td>vegetarian</td>\n",
              "      <td>480</td>\n",
              "      <td>30</td>\n",
              "      <td>sweet</td>\n",
              "      <td>dessert</td>\n",
              "      <td>West Bengal</td>\n",
              "      <td>East</td>\n",
              "    </tr>\n",
              "    <tr>\n",
              "      <th>30</th>\n",
              "      <td>Pantua</td>\n",
              "      <td>Chhena, sugar, ghee, flour</td>\n",
              "      <td>vegetarian</td>\n",
              "      <td>45</td>\n",
              "      <td>45</td>\n",
              "      <td>sweet</td>\n",
              "      <td>dessert</td>\n",
              "      <td>West Bengal</td>\n",
              "      <td>East</td>\n",
              "    </tr>\n",
              "    <tr>\n",
              "      <th>33</th>\n",
              "      <td>Ras malai</td>\n",
              "      <td>Chhena, reduced milk, pistachio</td>\n",
              "      <td>vegetarian</td>\n",
              "      <td>180</td>\n",
              "      <td>60</td>\n",
              "      <td>sweet</td>\n",
              "      <td>dessert</td>\n",
              "      <td>West Bengal</td>\n",
              "      <td>East</td>\n",
              "    </tr>\n",
              "    <tr>\n",
              "      <th>34</th>\n",
              "      <td>Rasgulla</td>\n",
              "      <td>Chhena, sugar, cardamom</td>\n",
              "      <td>vegetarian</td>\n",
              "      <td>10</td>\n",
              "      <td>90</td>\n",
              "      <td>sweet</td>\n",
              "      <td>dessert</td>\n",
              "      <td>West Bengal</td>\n",
              "      <td>East</td>\n",
              "    </tr>\n",
              "    <tr>\n",
              "      <th>35</th>\n",
              "      <td>Sandesh</td>\n",
              "      <td>Milk, sugar, saffron, cardamom</td>\n",
              "      <td>vegetarian</td>\n",
              "      <td>30</td>\n",
              "      <td>20</td>\n",
              "      <td>sweet</td>\n",
              "      <td>dessert</td>\n",
              "      <td>West Bengal</td>\n",
              "      <td>East</td>\n",
              "    </tr>\n",
              "    <tr>\n",
              "      <th>36</th>\n",
              "      <td>Adhirasam</td>\n",
              "      <td>Rice flour, jaggery, ghee, vegetable oil, elachi</td>\n",
              "      <td>vegetarian</td>\n",
              "      <td>10</td>\n",
              "      <td>50</td>\n",
              "      <td>sweet</td>\n",
              "      <td>dessert</td>\n",
              "      <td>West Bengal</td>\n",
              "      <td>East</td>\n",
              "    </tr>\n",
              "    <tr>\n",
              "      <th>79</th>\n",
              "      <td>Chicken razala</td>\n",
              "      <td>Chicken, dahi, sesame seeds, garam masala powd...</td>\n",
              "      <td>non vegetarian</td>\n",
              "      <td>10</td>\n",
              "      <td>35</td>\n",
              "      <td>spicy</td>\n",
              "      <td>main course</td>\n",
              "      <td>West Bengal</td>\n",
              "      <td>East</td>\n",
              "    </tr>\n",
              "    <tr>\n",
              "      <th>84</th>\n",
              "      <td>Daal puri</td>\n",
              "      <td>Moong dal, garam masala powder, garlic, green ...</td>\n",
              "      <td>vegetarian</td>\n",
              "      <td>30</td>\n",
              "      <td>30</td>\n",
              "      <td>spicy</td>\n",
              "      <td>main course</td>\n",
              "      <td>West Bengal</td>\n",
              "      <td>East</td>\n",
              "    </tr>\n",
              "    <tr>\n",
              "      <th>220</th>\n",
              "      <td>Cheera Doi</td>\n",
              "      <td>Rice, mango, curd</td>\n",
              "      <td>vegetarian</td>\n",
              "      <td>-1</td>\n",
              "      <td>-1</td>\n",
              "      <td>sweet</td>\n",
              "      <td>dessert</td>\n",
              "      <td>West Bengal</td>\n",
              "      <td>East</td>\n",
              "    </tr>\n",
              "    <tr>\n",
              "      <th>224</th>\n",
              "      <td>Luchi</td>\n",
              "      <td>Maida, vegetable oil</td>\n",
              "      <td>vegetarian</td>\n",
              "      <td>20</td>\n",
              "      <td>30</td>\n",
              "      <td>-1</td>\n",
              "      <td>main course</td>\n",
              "      <td>West Bengal</td>\n",
              "      <td>East</td>\n",
              "    </tr>\n",
              "    <tr>\n",
              "      <th>232</th>\n",
              "      <td>Chingri malai curry</td>\n",
              "      <td>Coconut milk, lobster, fresh green chilli, gin...</td>\n",
              "      <td>non vegetarian</td>\n",
              "      <td>10</td>\n",
              "      <td>40</td>\n",
              "      <td>spicy</td>\n",
              "      <td>main course</td>\n",
              "      <td>West Bengal</td>\n",
              "      <td>East</td>\n",
              "    </tr>\n",
              "    <tr>\n",
              "      <th>233</th>\n",
              "      <td>Goja</td>\n",
              "      <td>Baking soda, clarified butter, oil, all purpos...</td>\n",
              "      <td>vegetarian</td>\n",
              "      <td>20</td>\n",
              "      <td>60</td>\n",
              "      <td>sweet</td>\n",
              "      <td>dessert</td>\n",
              "      <td>West Bengal</td>\n",
              "      <td>East</td>\n",
              "    </tr>\n",
              "    <tr>\n",
              "      <th>236</th>\n",
              "      <td>Chingri Bhape</td>\n",
              "      <td>Coconut, prawns, curd, mustard seed, green chili</td>\n",
              "      <td>non vegetarian</td>\n",
              "      <td>15</td>\n",
              "      <td>30</td>\n",
              "      <td>-1</td>\n",
              "      <td>main course</td>\n",
              "      <td>West Bengal</td>\n",
              "      <td>East</td>\n",
              "    </tr>\n",
              "    <tr>\n",
              "      <th>237</th>\n",
              "      <td>Kabiraji</td>\n",
              "      <td>Fish fillet, besan, lemon, mint, ginger</td>\n",
              "      <td>non vegetarian</td>\n",
              "      <td>-1</td>\n",
              "      <td>-1</td>\n",
              "      <td>spicy</td>\n",
              "      <td>main course</td>\n",
              "      <td>West Bengal</td>\n",
              "      <td>East</td>\n",
              "    </tr>\n",
              "    <tr>\n",
              "      <th>243</th>\n",
              "      <td>Mishti Chholar Dal</td>\n",
              "      <td>Chana dal, fresh coconut, ginger, cinnamon, ra...</td>\n",
              "      <td>vegetarian</td>\n",
              "      <td>10</td>\n",
              "      <td>30</td>\n",
              "      <td>sweet</td>\n",
              "      <td>main course</td>\n",
              "      <td>West Bengal</td>\n",
              "      <td>East</td>\n",
              "    </tr>\n",
              "    <tr>\n",
              "      <th>247</th>\n",
              "      <td>Prawn malai curry</td>\n",
              "      <td>Coconut milk, prawns, garlic, turmeric, sugar</td>\n",
              "      <td>non vegetarian</td>\n",
              "      <td>15</td>\n",
              "      <td>50</td>\n",
              "      <td>spicy</td>\n",
              "      <td>main course</td>\n",
              "      <td>West Bengal</td>\n",
              "      <td>East</td>\n",
              "    </tr>\n",
              "    <tr>\n",
              "      <th>249</th>\n",
              "      <td>Shukto</td>\n",
              "      <td>Green beans, bitter gourd, ridge gourd, banana...</td>\n",
              "      <td>vegetarian</td>\n",
              "      <td>10</td>\n",
              "      <td>20</td>\n",
              "      <td>spicy</td>\n",
              "      <td>main course</td>\n",
              "      <td>West Bengal</td>\n",
              "      <td>East</td>\n",
              "    </tr>\n",
              "  </tbody>\n",
              "</table>\n",
              "</div>\n",
              "    <div class=\"colab-df-buttons\">\n",
              "\n",
              "  <div class=\"colab-df-container\">\n",
              "    <button class=\"colab-df-convert\" onclick=\"convertToInteractive('df-8e1ef570-92b8-4cde-bd4e-3e626ed01d4f')\"\n",
              "            title=\"Convert this dataframe to an interactive table.\"\n",
              "            style=\"display:none;\">\n",
              "\n",
              "  <svg xmlns=\"http://www.w3.org/2000/svg\" height=\"24px\" viewBox=\"0 -960 960 960\">\n",
              "    <path d=\"M120-120v-720h720v720H120Zm60-500h600v-160H180v160Zm220 220h160v-160H400v160Zm0 220h160v-160H400v160ZM180-400h160v-160H180v160Zm440 0h160v-160H620v160ZM180-180h160v-160H180v160Zm440 0h160v-160H620v160Z\"/>\n",
              "  </svg>\n",
              "    </button>\n",
              "\n",
              "  <style>\n",
              "    .colab-df-container {\n",
              "      display:flex;\n",
              "      gap: 12px;\n",
              "    }\n",
              "\n",
              "    .colab-df-convert {\n",
              "      background-color: #E8F0FE;\n",
              "      border: none;\n",
              "      border-radius: 50%;\n",
              "      cursor: pointer;\n",
              "      display: none;\n",
              "      fill: #1967D2;\n",
              "      height: 32px;\n",
              "      padding: 0 0 0 0;\n",
              "      width: 32px;\n",
              "    }\n",
              "\n",
              "    .colab-df-convert:hover {\n",
              "      background-color: #E2EBFA;\n",
              "      box-shadow: 0px 1px 2px rgba(60, 64, 67, 0.3), 0px 1px 3px 1px rgba(60, 64, 67, 0.15);\n",
              "      fill: #174EA6;\n",
              "    }\n",
              "\n",
              "    .colab-df-buttons div {\n",
              "      margin-bottom: 4px;\n",
              "    }\n",
              "\n",
              "    [theme=dark] .colab-df-convert {\n",
              "      background-color: #3B4455;\n",
              "      fill: #D2E3FC;\n",
              "    }\n",
              "\n",
              "    [theme=dark] .colab-df-convert:hover {\n",
              "      background-color: #434B5C;\n",
              "      box-shadow: 0px 1px 3px 1px rgba(0, 0, 0, 0.15);\n",
              "      filter: drop-shadow(0px 1px 2px rgba(0, 0, 0, 0.3));\n",
              "      fill: #FFFFFF;\n",
              "    }\n",
              "  </style>\n",
              "\n",
              "    <script>\n",
              "      const buttonEl =\n",
              "        document.querySelector('#df-8e1ef570-92b8-4cde-bd4e-3e626ed01d4f button.colab-df-convert');\n",
              "      buttonEl.style.display =\n",
              "        google.colab.kernel.accessAllowed ? 'block' : 'none';\n",
              "\n",
              "      async function convertToInteractive(key) {\n",
              "        const element = document.querySelector('#df-8e1ef570-92b8-4cde-bd4e-3e626ed01d4f');\n",
              "        const dataTable =\n",
              "          await google.colab.kernel.invokeFunction('convertToInteractive',\n",
              "                                                    [key], {});\n",
              "        if (!dataTable) return;\n",
              "\n",
              "        const docLinkHtml = 'Like what you see? Visit the ' +\n",
              "          '<a target=\"_blank\" href=https://colab.research.google.com/notebooks/data_table.ipynb>data table notebook</a>'\n",
              "          + ' to learn more about interactive tables.';\n",
              "        element.innerHTML = '';\n",
              "        dataTable['output_type'] = 'display_data';\n",
              "        await google.colab.output.renderOutput(dataTable, element);\n",
              "        const docLink = document.createElement('div');\n",
              "        docLink.innerHTML = docLinkHtml;\n",
              "        element.appendChild(docLink);\n",
              "      }\n",
              "    </script>\n",
              "  </div>\n",
              "\n",
              "\n",
              "<div id=\"df-89ca74e7-950d-44eb-a6e0-9d1ff76bc68c\">\n",
              "  <button class=\"colab-df-quickchart\" onclick=\"quickchart('df-89ca74e7-950d-44eb-a6e0-9d1ff76bc68c')\"\n",
              "            title=\"Suggest charts\"\n",
              "            style=\"display:none;\">\n",
              "\n",
              "<svg xmlns=\"http://www.w3.org/2000/svg\" height=\"24px\"viewBox=\"0 0 24 24\"\n",
              "     width=\"24px\">\n",
              "    <g>\n",
              "        <path d=\"M19 3H5c-1.1 0-2 .9-2 2v14c0 1.1.9 2 2 2h14c1.1 0 2-.9 2-2V5c0-1.1-.9-2-2-2zM9 17H7v-7h2v7zm4 0h-2V7h2v10zm4 0h-2v-4h2v4z\"/>\n",
              "    </g>\n",
              "</svg>\n",
              "  </button>\n",
              "\n",
              "<style>\n",
              "  .colab-df-quickchart {\n",
              "      --bg-color: #E8F0FE;\n",
              "      --fill-color: #1967D2;\n",
              "      --hover-bg-color: #E2EBFA;\n",
              "      --hover-fill-color: #174EA6;\n",
              "      --disabled-fill-color: #AAA;\n",
              "      --disabled-bg-color: #DDD;\n",
              "  }\n",
              "\n",
              "  [theme=dark] .colab-df-quickchart {\n",
              "      --bg-color: #3B4455;\n",
              "      --fill-color: #D2E3FC;\n",
              "      --hover-bg-color: #434B5C;\n",
              "      --hover-fill-color: #FFFFFF;\n",
              "      --disabled-bg-color: #3B4455;\n",
              "      --disabled-fill-color: #666;\n",
              "  }\n",
              "\n",
              "  .colab-df-quickchart {\n",
              "    background-color: var(--bg-color);\n",
              "    border: none;\n",
              "    border-radius: 50%;\n",
              "    cursor: pointer;\n",
              "    display: none;\n",
              "    fill: var(--fill-color);\n",
              "    height: 32px;\n",
              "    padding: 0;\n",
              "    width: 32px;\n",
              "  }\n",
              "\n",
              "  .colab-df-quickchart:hover {\n",
              "    background-color: var(--hover-bg-color);\n",
              "    box-shadow: 0 1px 2px rgba(60, 64, 67, 0.3), 0 1px 3px 1px rgba(60, 64, 67, 0.15);\n",
              "    fill: var(--button-hover-fill-color);\n",
              "  }\n",
              "\n",
              "  .colab-df-quickchart-complete:disabled,\n",
              "  .colab-df-quickchart-complete:disabled:hover {\n",
              "    background-color: var(--disabled-bg-color);\n",
              "    fill: var(--disabled-fill-color);\n",
              "    box-shadow: none;\n",
              "  }\n",
              "\n",
              "  .colab-df-spinner {\n",
              "    border: 2px solid var(--fill-color);\n",
              "    border-color: transparent;\n",
              "    border-bottom-color: var(--fill-color);\n",
              "    animation:\n",
              "      spin 1s steps(1) infinite;\n",
              "  }\n",
              "\n",
              "  @keyframes spin {\n",
              "    0% {\n",
              "      border-color: transparent;\n",
              "      border-bottom-color: var(--fill-color);\n",
              "      border-left-color: var(--fill-color);\n",
              "    }\n",
              "    20% {\n",
              "      border-color: transparent;\n",
              "      border-left-color: var(--fill-color);\n",
              "      border-top-color: var(--fill-color);\n",
              "    }\n",
              "    30% {\n",
              "      border-color: transparent;\n",
              "      border-left-color: var(--fill-color);\n",
              "      border-top-color: var(--fill-color);\n",
              "      border-right-color: var(--fill-color);\n",
              "    }\n",
              "    40% {\n",
              "      border-color: transparent;\n",
              "      border-right-color: var(--fill-color);\n",
              "      border-top-color: var(--fill-color);\n",
              "    }\n",
              "    60% {\n",
              "      border-color: transparent;\n",
              "      border-right-color: var(--fill-color);\n",
              "    }\n",
              "    80% {\n",
              "      border-color: transparent;\n",
              "      border-right-color: var(--fill-color);\n",
              "      border-bottom-color: var(--fill-color);\n",
              "    }\n",
              "    90% {\n",
              "      border-color: transparent;\n",
              "      border-bottom-color: var(--fill-color);\n",
              "    }\n",
              "  }\n",
              "</style>\n",
              "\n",
              "  <script>\n",
              "    async function quickchart(key) {\n",
              "      const quickchartButtonEl =\n",
              "        document.querySelector('#' + key + ' button');\n",
              "      quickchartButtonEl.disabled = true;  // To prevent multiple clicks.\n",
              "      quickchartButtonEl.classList.add('colab-df-spinner');\n",
              "      try {\n",
              "        const charts = await google.colab.kernel.invokeFunction(\n",
              "            'suggestCharts', [key], {});\n",
              "      } catch (error) {\n",
              "        console.error('Error during call to suggestCharts:', error);\n",
              "      }\n",
              "      quickchartButtonEl.classList.remove('colab-df-spinner');\n",
              "      quickchartButtonEl.classList.add('colab-df-quickchart-complete');\n",
              "    }\n",
              "    (() => {\n",
              "      let quickchartButtonEl =\n",
              "        document.querySelector('#df-89ca74e7-950d-44eb-a6e0-9d1ff76bc68c button');\n",
              "      quickchartButtonEl.style.display =\n",
              "        google.colab.kernel.accessAllowed ? 'block' : 'none';\n",
              "    })();\n",
              "  </script>\n",
              "</div>\n",
              "\n",
              "    </div>\n",
              "  </div>\n"
            ],
            "application/vnd.google.colaboratory.intrinsic+json": {
              "type": "dataframe",
              "summary": "{\n  \"name\": \"explore_state('West Bengal')\",\n  \"rows\": 24,\n  \"fields\": [\n    {\n      \"column\": \"name\",\n      \"properties\": {\n        \"dtype\": \"string\",\n        \"num_unique_values\": 24,\n        \"samples\": [\n          \"Pantua\",\n          \"Luchi\",\n          \"Balu shahi\"\n        ],\n        \"semantic_type\": \"\",\n        \"description\": \"\"\n      }\n    },\n    {\n      \"column\": \"ingredients\",\n      \"properties\": {\n        \"dtype\": \"string\",\n        \"num_unique_values\": 24,\n        \"samples\": [\n          \"Chhena, sugar, ghee, flour\",\n          \"Maida, vegetable oil\",\n          \"Maida flour, yogurt, oil, sugar\"\n        ],\n        \"semantic_type\": \"\",\n        \"description\": \"\"\n      }\n    },\n    {\n      \"column\": \"diet\",\n      \"properties\": {\n        \"dtype\": \"category\",\n        \"num_unique_values\": 2,\n        \"samples\": [\n          \"non vegetarian\",\n          \"vegetarian\"\n        ],\n        \"semantic_type\": \"\",\n        \"description\": \"\"\n      }\n    },\n    {\n      \"column\": \"prep_time\",\n      \"properties\": {\n        \"dtype\": \"number\",\n        \"std\": 99,\n        \"min\": -1,\n        \"max\": 480,\n        \"num_unique_values\": 9,\n        \"samples\": [\n          30,\n          15\n        ],\n        \"semantic_type\": \"\",\n        \"description\": \"\"\n      }\n    },\n    {\n      \"column\": \"cook_time\",\n      \"properties\": {\n        \"dtype\": \"number\",\n        \"std\": 19,\n        \"min\": -1,\n        \"max\": 90,\n        \"num_unique_values\": 10,\n        \"samples\": [\n          35,\n          40\n        ],\n        \"semantic_type\": \"\",\n        \"description\": \"\"\n      }\n    },\n    {\n      \"column\": \"flavor_profile\",\n      \"properties\": {\n        \"dtype\": \"category\",\n        \"num_unique_values\": 3,\n        \"samples\": [\n          \"sweet\",\n          \"spicy\"\n        ],\n        \"semantic_type\": \"\",\n        \"description\": \"\"\n      }\n    },\n    {\n      \"column\": \"course\",\n      \"properties\": {\n        \"dtype\": \"category\",\n        \"num_unique_values\": 2,\n        \"samples\": [\n          \"main course\",\n          \"dessert\"\n        ],\n        \"semantic_type\": \"\",\n        \"description\": \"\"\n      }\n    },\n    {\n      \"column\": \"state\",\n      \"properties\": {\n        \"dtype\": \"category\",\n        \"num_unique_values\": 1,\n        \"samples\": [\n          \"West Bengal\"\n        ],\n        \"semantic_type\": \"\",\n        \"description\": \"\"\n      }\n    },\n    {\n      \"column\": \"region\",\n      \"properties\": {\n        \"dtype\": \"category\",\n        \"num_unique_values\": 1,\n        \"samples\": [\n          \"East\"\n        ],\n        \"semantic_type\": \"\",\n        \"description\": \"\"\n      }\n    }\n  ]\n}"
            }
          },
          "metadata": {},
          "execution_count": 88
        }
      ]
    },
    {
      "cell_type": "code",
      "source": [
        "def recom_food(diet, course, flavor, time):\n",
        "  return data[(data['diet'] == diet) & (data['course']==course) & (data['flavor_profile']==flavor) & (data['cook_time']<= time)]"
      ],
      "metadata": {
        "id": "PDwDmQj8SJDw"
      },
      "execution_count": 110,
      "outputs": []
    },
    {
      "cell_type": "code",
      "source": [
        "recom_food('vegetarian','dessert','sweet', 5)['name'].values"
      ],
      "metadata": {
        "colab": {
          "base_uri": "https://localhost:8080/"
        },
        "id": "HLYjXlh_SJBW",
        "outputId": "4d25eac5-b33b-4bbc-f9b0-d290fe7bb040"
      },
      "execution_count": 119,
      "outputs": [
        {
          "output_type": "execute_result",
          "data": {
            "text/plain": [
              "array(['Lassi', 'Halvasan', 'Cheera Doi', 'Hando Guri', 'Payokh',\n",
              "       'Shufta', 'Pinaca'], dtype=object)"
            ]
          },
          "metadata": {},
          "execution_count": 119
        }
      ]
    },
    {
      "cell_type": "code",
      "source": [
        "data['flavour_profile'].unique"
      ],
      "metadata": {
        "colab": {
          "base_uri": "https://localhost:8080/"
        },
        "id": "UugRwiEaX4is",
        "outputId": "c14cc2e9-2b76-48ca-c4c8-a1ab580a8f13"
      },
      "execution_count": 106,
      "outputs": [
        {
          "output_type": "execute_result",
          "data": {
            "text/plain": [
              "array(['sweet', 'spicy', 'bitter', '-1', 'sour'], dtype=object)"
            ]
          },
          "metadata": {},
          "execution_count": 106
        }
      ]
    },
    {
      "cell_type": "code",
      "source": [
        "import seaborn as sns\n",
        "\n",
        "sns.countplot(x = 'diet', data=data, hue='course')"
      ],
      "metadata": {
        "colab": {
          "base_uri": "https://localhost:8080/",
          "height": 466
        },
        "id": "478JfK4SYXPz",
        "outputId": "8912a337-b4cf-4bc4-a4d5-dd73251235a3"
      },
      "execution_count": 125,
      "outputs": [
        {
          "output_type": "execute_result",
          "data": {
            "text/plain": [
              "<Axes: xlabel='diet', ylabel='count'>"
            ]
          },
          "metadata": {},
          "execution_count": 125
        },
        {
          "output_type": "display_data",
          "data": {
            "text/plain": [
              "<Figure size 640x480 with 1 Axes>"
            ],
            "image/png": "[encoded data removed]"
          },
          "metadata": {}
        }
      ]
    },
    {
      "cell_type": "code",
      "source": [],
      "metadata": {
        "id": "g2-aPotQbe-r"
      },
      "execution_count": null,
      "outputs": []
    }
  ]
}